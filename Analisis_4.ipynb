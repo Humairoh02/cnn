{
 "cells": [
  {
   "cell_type": "markdown",
   "metadata": {
    "id": "4wwVNlpZEfoS"
   },
   "source": [
    "# **About Datasets**\n",
    "\n",
    "ChatGPT has been a major talk in the tech world. The tweets about chatgpt were gathered for a month and then the sentiment analysis was made using Natural Language Processing.\n",
    "\n",
    "**Features**\n",
    "*   Tweets\t: text of tweet data\n",
    "*   abels\t: class of sentiment (good, bad, neutral)\n"
   ]
  },
  {
   "cell_type": "markdown",
   "metadata": {
    "id": "3IxyLUHYF1KX"
   },
   "source": [
    "# **Import Library & Datasets**\n",
    "\n",
    "---"
   ]
  },
  {
   "cell_type": "code",
   "execution_count": null,
   "metadata": {
    "colab": {
     "base_uri": "https://localhost:8080/"
    },
    "id": "FUJ4HEFhF_mf",
    "outputId": "179824bc-c1c4-4069-ba9a-61f2c1900296"
   },
   "outputs": [],
   "source": [
    "pip install nltk"
   ]
  },
  {
   "cell_type": "code",
   "execution_count": null,
   "metadata": {
    "colab": {
     "base_uri": "https://localhost:8080/"
    },
    "id": "56afokjmHZtg",
    "outputId": "699c62a6-66cf-4d1c-b1a7-d5b3cc038d4d"
   },
   "outputs": [],
   "source": [
    "pip install lightgbm xgboost scipy"
   ]
  },
  {
   "cell_type": "code",
   "execution_count": null,
   "metadata": {
    "colab": {
     "base_uri": "https://localhost:8080/"
    },
    "id": "5IcMMste1kst",
    "outputId": "4101a512-27e2-4aa1-8c1d-a5015571d257"
   },
   "outputs": [],
   "source": [
    "pip install imbalanced-learn scikit-learn"
   ]
  },
  {
   "cell_type": "code",
   "execution_count": null,
   "metadata": {
    "colab": {
     "base_uri": "https://localhost:8080/"
    },
    "id": "XDv7JUyFYHN_",
    "outputId": "4080b382-a2ff-46c1-818e-e640cb49764d"
   },
   "outputs": [],
   "source": [
    "pip install optuna"
   ]
  },
  {
   "cell_type": "code",
   "execution_count": null,
   "metadata": {
    "colab": {
     "base_uri": "https://localhost:8080/"
    },
    "id": "pTVRe4C3zMEA",
    "outputId": "680095f6-d092-4a2e-f1c6-4bf9d4aebeb9"
   },
   "outputs": [],
   "source": [
    "pip install keras-tuner"
   ]
  },
  {
   "cell_type": "code",
   "execution_count": null,
   "metadata": {
    "colab": {
     "base_uri": "https://localhost:8080/"
    },
    "id": "X_gjyAi-Z4-T",
    "outputId": "79b177c4-3e1a-4ea5-fb45-29467e6ae851"
   },
   "outputs": [],
   "source": [
    "pip install tensorflow"
   ]
  },
  {
   "cell_type": "code",
   "execution_count": null,
   "metadata": {
    "colab": {
     "base_uri": "https://localhost:8080/"
    },
    "id": "wuJljyhG1lMH",
    "outputId": "d3fa90e7-bc7b-4d92-f919-e7c9546ded6a"
   },
   "outputs": [],
   "source": [
    "pip install tabulate"
   ]
  },
  {
   "cell_type": "code",
   "execution_count": null,
   "metadata": {},
   "outputs": [],
   "source": [
    "pip install wordcloud"
   ]
  },
  {
   "cell_type": "code",
   "execution_count": null,
   "metadata": {},
   "outputs": [],
   "source": [
    "pip install tensorflow keras"
   ]
  },
  {
   "cell_type": "code",
   "execution_count": 2,
   "metadata": {
    "id": "aYLiHYMWra2U"
   },
   "outputs": [],
   "source": [
    "# Commented out IPython magic to ensure Python compatibility.\n",
    "import pandas as pd\n",
    "import numpy as np\n",
    "import seaborn as sns\n",
    "import re\n",
    "import tensorflow as tf\n",
    "import matplotlib.pyplot as plt\n",
    "import string\n",
    "import keras.backend as K\n",
    "\n",
    "from sklearn.model_selection import train_test_split\n",
    "from sklearn.preprocessing import LabelEncoder\n",
    "from tensorflow.keras.preprocessing.text import Tokenizer\n",
    "from keras.utils import pad_sequences\n",
    "from tensorflow.keras.utils import to_categorical\n",
    "from keras.layers import Dense,Conv1D,MaxPooling1D\n",
    "from keras import models\n",
    "from keras import layers\n",
    "from nltk.tokenize import word_tokenize\n",
    "from nltk.stem import WordNetLemmatizer\n",
    "from nltk.corpus import stopwords"
   ]
  },
  {
   "cell_type": "code",
   "execution_count": 3,
   "metadata": {},
   "outputs": [],
   "source": [
    "df=pd.read_csv('data_pangkas.csv')"
   ]
  },
  {
   "cell_type": "markdown",
   "metadata": {
    "id": "saA7u7ahNHF6"
   },
   "source": [
    "## **Bagian lain preprocessing**"
   ]
  },
  {
   "cell_type": "code",
   "execution_count": 8,
   "metadata": {
    "colab": {
     "base_uri": "https://localhost:8080/"
    },
    "id": "qvTjgyot_H2j",
    "outputId": "35780a62-368e-4e64-8682-9f9eb2455159"
   },
   "outputs": [],
   "source": [
    "import nltk\n",
    "from nltk.tokenize import word_tokenize\n",
    "from nltk.stem import WordNetLemmatizer"
   ]
  },
  {
   "cell_type": "code",
   "execution_count": 4,
   "metadata": {
    "colab": {
     "base_uri": "https://localhost:8080/",
     "height": 241
    },
    "id": "kSmCbBxv7iYI",
    "outputId": "65c6f972-6233-4d33-d9d5-3c3a6809ea8c"
   },
   "outputs": [
    {
     "data": {
      "text/plain": [
       "0    [openais, chatgpt, is, the, worlds, best, chat...\n",
       "1    [i, tried, to, ask, chatgpt, the, last, questi...\n",
       "2    [you, got, to, love, chatgpt, decoding, urls, ...\n",
       "3    [chatgpt, is, phenomenal, but, im, not, jumpin...\n",
       "4    [chatgpt, proves, ai, is, finally, mainstream,...\n",
       "Name: tweets, dtype: object"
      ]
     },
     "execution_count": 4,
     "metadata": {},
     "output_type": "execute_result"
    }
   ],
   "source": [
    "\n",
    "tokenized_tweet = df['tweets'].apply(lambda x: word_tokenize(x))\n",
    "tokenized_tweet.head()"
   ]
  },
  {
   "cell_type": "code",
   "execution_count": 6,
   "metadata": {
    "colab": {
     "base_uri": "https://localhost:8080/",
     "height": 293
    },
    "id": "oHmwbUVwQm_F",
    "outputId": "9906c63e-84a2-42e9-fcf0-7e7fb3114d88"
   },
   "outputs": [
    {
     "data": {
      "text/html": [
       "<div>\n",
       "<style scoped>\n",
       "    .dataframe tbody tr th:only-of-type {\n",
       "        vertical-align: middle;\n",
       "    }\n",
       "\n",
       "    .dataframe tbody tr th {\n",
       "        vertical-align: top;\n",
       "    }\n",
       "\n",
       "    .dataframe thead th {\n",
       "        text-align: right;\n",
       "    }\n",
       "</style>\n",
       "<table border=\"1\" class=\"dataframe\">\n",
       "  <thead>\n",
       "    <tr style=\"text-align: right;\">\n",
       "      <th></th>\n",
       "      <th>tweets</th>\n",
       "      <th>labels</th>\n",
       "      <th>clean_data</th>\n",
       "    </tr>\n",
       "  </thead>\n",
       "  <tbody>\n",
       "    <tr>\n",
       "      <th>0</th>\n",
       "      <td>openais chatgpt is the worlds best chatbot by</td>\n",
       "      <td>good</td>\n",
       "      <td>openais chatgpt is the world best chatbot by</td>\n",
       "    </tr>\n",
       "    <tr>\n",
       "      <th>1</th>\n",
       "      <td>i tried to ask chatgpt the last question  glad...</td>\n",
       "      <td>good</td>\n",
       "      <td>i tried to ask chatgpt the last question glad ...</td>\n",
       "    </tr>\n",
       "    <tr>\n",
       "      <th>2</th>\n",
       "      <td>you got to love chatgpt decoding urls for mast...</td>\n",
       "      <td>good</td>\n",
       "      <td>you got to love chatgpt decoding url for masto...</td>\n",
       "    </tr>\n",
       "    <tr>\n",
       "      <th>3</th>\n",
       "      <td>chatgpt is phenomenal but im not jumping on th...</td>\n",
       "      <td>bad</td>\n",
       "      <td>chatgpt is phenomenal but im not jumping on th...</td>\n",
       "    </tr>\n",
       "    <tr>\n",
       "      <th>4</th>\n",
       "      <td>chatgpt proves ai is finally mainstream and th...</td>\n",
       "      <td>bad</td>\n",
       "      <td>chatgpt prof ai is finally mainstream and thin...</td>\n",
       "    </tr>\n",
       "  </tbody>\n",
       "</table>\n",
       "</div>"
      ],
      "text/plain": [
       "                                              tweets labels  \\\n",
       "0      openais chatgpt is the worlds best chatbot by   good   \n",
       "1  i tried to ask chatgpt the last question  glad...   good   \n",
       "2  you got to love chatgpt decoding urls for mast...   good   \n",
       "3  chatgpt is phenomenal but im not jumping on th...    bad   \n",
       "4  chatgpt proves ai is finally mainstream and th...    bad   \n",
       "\n",
       "                                          clean_data  \n",
       "0       openais chatgpt is the world best chatbot by  \n",
       "1  i tried to ask chatgpt the last question glad ...  \n",
       "2  you got to love chatgpt decoding url for masto...  \n",
       "3  chatgpt is phenomenal but im not jumping on th...  \n",
       "4  chatgpt prof ai is finally mainstream and thin...  "
      ]
     },
     "execution_count": 6,
     "metadata": {},
     "output_type": "execute_result"
    }
   ],
   "source": [
    "\"\"\"### Lemmatization\"\"\"\n",
    "\n",
    "lemmatizer = WordNetLemmatizer()\n",
    "tokenized_tweet = tokenized_tweet.apply(lambda sentence: [lemmatizer.lemmatize(word) for word in sentence])\n",
    "tokenized_tweet.head()\n",
    "\n",
    "for i in range(len(tokenized_tweet)):\n",
    "    tokenized_tweet[i] = \" \".join(tokenized_tweet[i])\n",
    "\n",
    "df['clean_data'] = tokenized_tweet\n",
    "df.head()"
   ]
  },
  {
   "cell_type": "code",
   "execution_count": null,
   "metadata": {},
   "outputs": [],
   "source": [
    "# Inisialisasi lemmatizer\n",
    "lemmatizer = WordNetLemmatizer()\n",
    "\n",
    "# Tokenisasi kalimat dan lemmatize setiap kata\n",
    "def lemmatize_sentence(sentence):\n",
    "    # Tokenisasi kalimat menjadi kata\n",
    "    tokens = word_tokenize(sentence)\n",
    "    # Lemmatize setiap kata\n",
    "    return [lemmatizer.lemmatize(word) for word in tokens]\n",
    "\n",
    "# Terapkan tokenisasi dan lemmatization\n",
    "df['clean_data'] = df['tweets'].apply(lemmatize_sentence)\n",
    "\n",
    "# Gabungkan kata-kata kembali menjadi kalimat\n",
    "df['clean_data'] = df['clean_data'].apply(lambda x: \" \".join(x))\n",
    "\n",
    "# Tampilkan hasil\n",
    "df.head()\n"
   ]
  },
  {
   "cell_type": "markdown",
   "metadata": {
    "id": "-dFh0cL4NCNZ"
   },
   "source": [
    "# **Bagian Yang Lain**"
   ]
  },
  {
   "cell_type": "markdown",
   "metadata": {
    "id": "x9lE3HesWzR3"
   },
   "source": [
    "# **Splitting Data**\n",
    "\n",
    "---"
   ]
  },
  {
   "cell_type": "code",
   "execution_count": 10,
   "metadata": {
    "colab": {
     "base_uri": "https://localhost:8080/"
    },
    "id": "Zqto13x3BqLb",
    "outputId": "6cab5fe5-42e5-4af0-c7ab-a09afaac97f2"
   },
   "outputs": [
    {
     "name": "stdout",
     "output_type": "stream",
     "text": [
      "# training data : 96000\n",
      "# testing data : 24000\n"
     ]
    }
   ],
   "source": [
    "x_train, x_test, y_train, y_test = train_test_split(df.clean_data, df.labels, test_size=0.2, random_state=42)\n",
    "print(f'# training data : {x_train.shape[0]}')\n",
    "print(f'# testing data : {x_test.shape[0]}')"
   ]
  },
  {
   "cell_type": "markdown",
   "metadata": {
    "id": "62LeNYO6CrNv"
   },
   "source": [
    "## **Gnerating Training and Testing Data**"
   ]
  },
  {
   "cell_type": "code",
   "execution_count": 11,
   "metadata": {
    "id": "eU4tERRECyOK"
   },
   "outputs": [],
   "source": [
    "training_data=pd.DataFrame({'clean_data':x_train, 'labels':y_train[:]})\n",
    "testing_data=pd.DataFrame({'clean_data':x_test, 'labels':y_test[:]})\n",
    "training_data.to_csv('training_data.csv')\n",
    "testing_data.to_csv('testing_data.csv')"
   ]
  },
  {
   "cell_type": "markdown",
   "metadata": {
    "id": "ZOQDIT_mEyMq"
   },
   "source": [
    "# **Teks Procesing**"
   ]
  },
  {
   "cell_type": "code",
   "execution_count": 12,
   "metadata": {},
   "outputs": [
    {
     "name": "stdout",
     "output_type": "stream",
     "text": [
      "<class 'pandas.core.series.Series'>\n",
      "<class 'str'>\n"
     ]
    }
   ],
   "source": [
    "print(type(x_train))\n",
    "print(type(x_train.iloc[0]))  # Mengecek tipe data dari elemen pertama"
   ]
  },
  {
   "cell_type": "code",
   "execution_count": 13,
   "metadata": {},
   "outputs": [],
   "source": [
    "num_of_words = 32000\n",
    "max_num_of_words = 50 # in sequence\n",
    "num_of_dimensions = 300  # For GloVe word embeddings"
   ]
  },
  {
   "cell_type": "code",
   "execution_count": 14,
   "metadata": {
    "colab": {
     "base_uri": "https://localhost:8080/",
     "height": 300
    },
    "id": "oXsEtKOnE4-E",
    "outputId": "bcd89718-cb28-4905-ae23-4a32ceebf236"
   },
   "outputs": [
    {
     "data": {
      "text/html": [
       "<div>\n",
       "<style scoped>\n",
       "    .dataframe tbody tr th:only-of-type {\n",
       "        vertical-align: middle;\n",
       "    }\n",
       "\n",
       "    .dataframe tbody tr th {\n",
       "        vertical-align: top;\n",
       "    }\n",
       "\n",
       "    .dataframe thead th {\n",
       "        text-align: right;\n",
       "    }\n",
       "</style>\n",
       "<table border=\"1\" class=\"dataframe\">\n",
       "  <thead>\n",
       "    <tr style=\"text-align: right;\">\n",
       "      <th></th>\n",
       "      <th>clean_data</th>\n",
       "    </tr>\n",
       "  </thead>\n",
       "  <tbody>\n",
       "    <tr>\n",
       "      <th>count</th>\n",
       "      <td>96000.000000</td>\n",
       "    </tr>\n",
       "    <tr>\n",
       "      <th>mean</th>\n",
       "      <td>18.621990</td>\n",
       "    </tr>\n",
       "    <tr>\n",
       "      <th>std</th>\n",
       "      <td>12.959685</td>\n",
       "    </tr>\n",
       "    <tr>\n",
       "      <th>min</th>\n",
       "      <td>1.000000</td>\n",
       "    </tr>\n",
       "    <tr>\n",
       "      <th>25%</th>\n",
       "      <td>8.000000</td>\n",
       "    </tr>\n",
       "    <tr>\n",
       "      <th>50%</th>\n",
       "      <td>15.000000</td>\n",
       "    </tr>\n",
       "    <tr>\n",
       "      <th>75%</th>\n",
       "      <td>27.000000</td>\n",
       "    </tr>\n",
       "    <tr>\n",
       "      <th>max</th>\n",
       "      <td>61.000000</td>\n",
       "    </tr>\n",
       "  </tbody>\n",
       "</table>\n",
       "</div>"
      ],
      "text/plain": [
       "         clean_data\n",
       "count  96000.000000\n",
       "mean      18.621990\n",
       "std       12.959685\n",
       "min        1.000000\n",
       "25%        8.000000\n",
       "50%       15.000000\n",
       "75%       27.000000\n",
       "max       61.000000"
      ]
     },
     "execution_count": 14,
     "metadata": {},
     "output_type": "execute_result"
    }
   ],
   "source": [
    "tokenizer = Tokenizer(num_words=num_of_words, filters=string.punctuation)\n",
    "tokenizer.fit_on_texts(x_train)\n",
    "\n",
    "# Menyimpan tokenizer ke file\n",
    "import pickle\n",
    "with open('tokenizer.pkl', 'wb') as handle:\n",
    "    pickle.dump(tokenizer, handle)\n",
    "\n",
    "x_train_sequences = tokenizer.texts_to_sequences(x_train)\n",
    "x_test_sequences = tokenizer.texts_to_sequences(x_test)\n",
    "\n",
    "data_description = x_train.apply(lambda x: len(x.split(' ')))\n",
    "data_description_df = pd.DataFrame(data_description.describe())\n",
    "data_description_df"
   ]
  },
  {
   "cell_type": "code",
   "execution_count": 15,
   "metadata": {},
   "outputs": [
    {
     "name": "stdout",
     "output_type": "stream",
     "text": [
      "Sample : (96000, 49)\n"
     ]
    }
   ],
   "source": [
    "max_num_of_words = 49\n",
    "\n",
    "x_train = pad_sequences(x_train_sequences, maxlen=max_num_of_words)\n",
    "x_test = pad_sequences(x_test_sequences, maxlen=max_num_of_words)\n",
    "\n",
    "print(f'Sample : {x_train.shape}')"
   ]
  },
  {
   "cell_type": "markdown",
   "metadata": {
    "id": "NkFjQSVWLBYC"
   },
   "source": [
    "## **Format Output**"
   ]
  },
  {
   "cell_type": "code",
   "execution_count": 16,
   "metadata": {
    "colab": {
     "base_uri": "https://localhost:8080/"
    },
    "id": "hVo7-aD6fsgE",
    "outputId": "306efd80-a790-4e58-c0c5-1821d0e94443"
   },
   "outputs": [
    {
     "data": {
      "text/plain": [
       "array([0., 1., 0.])"
      ]
     },
     "execution_count": 16,
     "metadata": {},
     "output_type": "execute_result"
    }
   ],
   "source": [
    "label_encoder = LabelEncoder()\n",
    "y_train = to_categorical(label_encoder.fit_transform(y_train))\n",
    "y_test = to_categorical(label_encoder.transform(y_test))\n",
    "y_test[0]"
   ]
  },
  {
   "cell_type": "markdown",
   "metadata": {
    "id": "Segz0joegSwp"
   },
   "source": [
    "# **Glove Word Embeddings**"
   ]
  },
  {
   "cell_type": "code",
   "execution_count": 14,
   "metadata": {
    "id": "PZ5aL0mw42ax"
   },
   "outputs": [],
   "source": [
    "num_of_words = 32000\n",
    "max_num_of_words = 50 # in sequence\n",
    "num_of_dimensions = 300  # For GloVe word embeddings"
   ]
  },
  {
   "cell_type": "code",
   "execution_count": 17,
   "metadata": {
    "id": "c_YGlkGUgSKV"
   },
   "outputs": [],
   "source": [
    "embedding_dict = {}\n",
    "glove = open(f'glove.6B.300d.txt', encoding=\"utf8\")\n",
    "for line in glove:\n",
    "  values = line.split()\n",
    "  word = values[0]\n",
    "  vector = np.asarray(values[1:], dtype='float32')\n",
    "  embedding_dict[word] = vector\n",
    "glove.close()"
   ]
  },
  {
   "cell_type": "code",
   "execution_count": 18,
   "metadata": {
    "colab": {
     "base_uri": "https://localhost:8080/"
    },
    "id": "Xn6gVYyFhx7Y",
    "outputId": "8e597ee8-5a8a-4986-c5d1-775b124aacde"
   },
   "outputs": [
    {
     "name": "stdout",
     "output_type": "stream",
     "text": [
      "Embedding Matrix Shape:  (32000, 300)\n"
     ]
    }
   ],
   "source": [
    "embedding_matrix = np.zeros((num_of_words, 300))\n",
    "\n",
    "for w, i in tokenizer.word_index.items():\n",
    "  if i < num_of_words:\n",
    "    vect = embedding_dict.get(w)\n",
    "    if vect is not None :\n",
    "      embedding_matrix[i] = vect\n",
    "  else:\n",
    "    break\n",
    "\n",
    "print('Embedding Matrix Shape: ', embedding_matrix.shape)"
   ]
  },
  {
   "cell_type": "markdown",
   "metadata": {
    "id": "d6WrXOnkjh2o"
   },
   "source": [
    "# **Model Training**"
   ]
  },
  {
   "cell_type": "code",
   "execution_count": 19,
   "metadata": {
    "id": "kXshkRvgjgnJ"
   },
   "outputs": [],
   "source": [
    "# Function untuk Ploting nilai akurasi dan nilai loss\n",
    "\n",
    "def plotting_model_measurements(history, model_name, trial_num):\n",
    "  title_name = f'{model_name} Model (Trial-{trial_num})'\n",
    "  fig, ax = plt.subplots(1,2, figsize=(10,4))\n",
    "  fig.subplots_adjust(hspace=0.8, wspace=0.8)\n",
    "  fig.suptitle(title_name, fontsize=16)\n",
    "  fig.trial_num=trial_num\n",
    "\n",
    "  ax[0].plot(history.history['accuracy'])\n",
    "  ax[0].plot(history.history['val_accuracy'])\n",
    "  ax[0].set_title('Model Accuracy')\n",
    "  ax[0].set_xlabel('epoch')\n",
    "  ax[0].set_ylabel('accuracy')\n",
    "  ax[0].legend(['train', 'validation'], loc='best')\n",
    "  ax[1].plot(history.history['loss'])\n",
    "  ax[1].plot(history.history['val_loss'])\n",
    "  ax[1].set_title('Model Loss')\n",
    "  ax[1].set_xlabel('epoch')\n",
    "  ax[1].set_ylabel('loss')\n",
    "  ax[1].legend(['train', 'validation'], loc='best')\n",
    "  #to_file=('/content/drive/MyDrive/Python/{model_name} Model Accuracy and Loss (Trial No.:{trial_num}).png')\n",
    "  #plt.savefig(f'Images/{model_name} Model Accuracy and Loss (Trial No.:{trial_num}).png')\n",
    "  plt.draw()\n",
    "  plt.tight_layout()"
   ]
  },
  {
   "cell_type": "markdown",
   "metadata": {
    "id": "KXjpC4rwpF69"
   },
   "source": [
    "## **CNN**"
   ]
  },
  {
   "cell_type": "code",
   "execution_count": 20,
   "metadata": {
    "id": "RyX4xWn3Gudk"
   },
   "outputs": [],
   "source": [
    "@tf.keras.utils.register_keras_serializable()\n",
    "def precision_m(y_true, y_pred):\n",
    "    true_positives = tf.reduce_sum(tf.cast(tf.round(tf.clip_by_value(y_true * y_pred, 0, 1)), tf.float32))\n",
    "    predicted_positives = tf.reduce_sum(tf.cast(tf.round(tf.clip_by_value(y_pred, 0, 1)), tf.float32))\n",
    "    precision = true_positives / (predicted_positives + tf.keras.backend.epsilon())\n",
    "    return precision\n",
    "\n",
    "@tf.keras.utils.register_keras_serializable()\n",
    "def recall_m(y_true, y_pred):\n",
    "    true_positives = tf.reduce_sum(tf.cast(tf.round(tf.clip_by_value(y_true * y_pred, 0, 1)), tf.float32))\n",
    "    possible_positives = tf.reduce_sum(tf.cast(tf.round(tf.clip_by_value(y_true, 0, 1)), tf.float32))\n",
    "    recall = true_positives / (possible_positives + tf.keras.backend.epsilon())\n",
    "    return recall\n",
    "\n",
    "@tf.keras.utils.register_keras_serializable()\n",
    "def f1_m(y_true, y_pred):\n",
    "    precision = precision_m(y_true, y_pred)\n",
    "    recall = recall_m(y_true, y_pred)\n",
    "    return 2 * ((precision * recall) / (precision + recall + tf.keras.backend.epsilon()))\n"
   ]
  },
  {
   "cell_type": "code",
   "execution_count": 21,
   "metadata": {},
   "outputs": [],
   "source": [
    "custom_objects={'f1_m': f1_m, 'precision_m': precision_m, 'recall_m': recall_m}"
   ]
  },
  {
   "cell_type": "code",
   "execution_count": 22,
   "metadata": {},
   "outputs": [],
   "source": [
    "#from tensorflow.keras.regularizers import l2\n",
    "from tensorflow.keras.regularizers import l1_l2\n",
    "\n",
    "def buat_cnn(Conv1D_1, Conv1D_2, Conv1D_3, _learning_rate, embedding_trainable, model_name):\n",
    "    model = models.Sequential(name=model_name)\n",
    "    model.add(layers.Embedding(num_of_words, num_of_dimensions, input_length=max_num_of_words, name='embedding_Layer', weights=[embedding_matrix], trainable=embedding_trainable))\n",
    "    \n",
    "    if Conv1D_1:\n",
    "        model.add(Conv1D(128, 16, padding='same', activation='relu'))\n",
    "        model.add(MaxPooling1D(3))\n",
    "\n",
    "    if Conv1D_2:\n",
    "        model.add(Conv1D(128, 16, padding='same', activation='relu'))\n",
    "        model.add(MaxPooling1D(3))\n",
    "\n",
    "    if Conv1D_3:\n",
    "        model.add(Conv1D(128, 16, padding='same', activation='relu'))\n",
    "        model.add(MaxPooling1D(3))\n",
    "\n",
    "    model.add(layers.Dropout(0.6))\n",
    "    model.add(layers.Flatten())\n",
    "\n",
    "    # L2 Regularization di Dense Layer\n",
    "    model.add(Dense(64, activation='relu', kernel_regularizer=l1_l2(l1=0.001, l2=0.004)))\n",
    "    model.add(layers.Dropout(0.3))\n",
    "\n",
    "    model.add(Dense(32, activation='relu', kernel_regularizer=l1_l2(l1=0.001, l2=0.004)))\n",
    "    model.add(layers.Dropout(0.2))\n",
    "\n",
    "    model.add(Dense(3, activation='softmax', name='Output_Layer'))  # Output Layer\n",
    "\n",
    "    model.layers[0].set_weights([embedding_matrix])\n",
    "    \n",
    "    if embedding_trainable:\n",
    "        model.layers[0].trainable = True\n",
    "    else:\n",
    "        model.layers[0].trainable = False\n",
    "\n",
    "    model.compile(loss='categorical_crossentropy', optimizer=tf.keras.optimizers.Adam(learning_rate=_learning_rate), metrics=['accuracy', f1_m, precision_m, recall_m])\n",
    "\n",
    "    model.summary()\n",
    "    return model\n"
   ]
  },
  {
   "cell_type": "code",
   "execution_count": 23,
   "metadata": {
    "id": "9sTv6473uSTT"
   },
   "outputs": [],
   "source": [
    "cnn_model_trials_dict = {\n",
    "    'Measurement' : ['Trial-1', 'Trial-2' , 'Trial-3', 'Trial-4', 'Trial-5'], # Trial-1 => 0 , Trial-2 => 1 , ...\n",
    "             'Training Accuaracy' : [0,0,0,0,0],\n",
    "             'Testing Accuaracy' : [0,0,0,0,0],\n",
    "             'Loss' : [0,0,0,0,0],\n",
    "             'Embedding layer Trainable':['No','No','No','No','No']\n",
    "}"
   ]
  },
  {
   "cell_type": "markdown",
   "metadata": {
    "id": "xkpwBIDku5YU"
   },
   "source": [
    "### **Training Model CNN**"
   ]
  },
  {
   "cell_type": "markdown",
   "metadata": {
    "id": "TN0s9gknfSio"
   },
   "source": [
    "####**Trial 1**"
   ]
  },
  {
   "cell_type": "code",
   "execution_count": 24,
   "metadata": {
    "colab": {
     "base_uri": "https://localhost:8080/",
     "height": 912
    },
    "id": "CuOgLZqsu47S",
    "outputId": "87bf83d8-4b92-41af-9965-85287c90e0d0"
   },
   "outputs": [
    {
     "name": "stderr",
     "output_type": "stream",
     "text": [
      "c:\\Users\\Lenovo\\anaconda3\\Lib\\site-packages\\keras\\src\\layers\\core\\embedding.py:90: UserWarning: Argument `input_length` is deprecated. Just remove it.\n",
      "  warnings.warn(\n"
     ]
    },
    {
     "data": {
      "text/html": [
       "<pre style=\"white-space:pre;overflow-x:auto;line-height:normal;font-family:Menlo,'DejaVu Sans Mono',consolas,'Courier New',monospace\"><span style=\"font-weight: bold\">Model: \"CNN_Trial-1\"</span>\n",
       "</pre>\n"
      ],
      "text/plain": [
       "\u001b[1mModel: \"CNN_Trial-1\"\u001b[0m\n"
      ]
     },
     "metadata": {},
     "output_type": "display_data"
    },
    {
     "data": {
      "text/html": [
       "<pre style=\"white-space:pre;overflow-x:auto;line-height:normal;font-family:Menlo,'DejaVu Sans Mono',consolas,'Courier New',monospace\">┏━━━━━━━━━━━━━━━━━━━━━━━━━━━━━━━━━┳━━━━━━━━━━━━━━━━━━━━━━━━┳━━━━━━━━━━━━━━━┓\n",
       "┃<span style=\"font-weight: bold\"> Layer (type)                    </span>┃<span style=\"font-weight: bold\"> Output Shape           </span>┃<span style=\"font-weight: bold\">       Param # </span>┃\n",
       "┡━━━━━━━━━━━━━━━━━━━━━━━━━━━━━━━━━╇━━━━━━━━━━━━━━━━━━━━━━━━╇━━━━━━━━━━━━━━━┩\n",
       "│ embedding_Layer (<span style=\"color: #0087ff; text-decoration-color: #0087ff\">Embedding</span>)     │ ?                      │     <span style=\"color: #00af00; text-decoration-color: #00af00\">9,600,000</span> │\n",
       "├─────────────────────────────────┼────────────────────────┼───────────────┤\n",
       "│ conv1d (<span style=\"color: #0087ff; text-decoration-color: #0087ff\">Conv1D</span>)                 │ ?                      │   <span style=\"color: #00af00; text-decoration-color: #00af00\">0</span> (unbuilt) │\n",
       "├─────────────────────────────────┼────────────────────────┼───────────────┤\n",
       "│ max_pooling1d (<span style=\"color: #0087ff; text-decoration-color: #0087ff\">MaxPooling1D</span>)    │ ?                      │             <span style=\"color: #00af00; text-decoration-color: #00af00\">0</span> │\n",
       "├─────────────────────────────────┼────────────────────────┼───────────────┤\n",
       "│ dropout (<span style=\"color: #0087ff; text-decoration-color: #0087ff\">Dropout</span>)               │ ?                      │             <span style=\"color: #00af00; text-decoration-color: #00af00\">0</span> │\n",
       "├─────────────────────────────────┼────────────────────────┼───────────────┤\n",
       "│ flatten (<span style=\"color: #0087ff; text-decoration-color: #0087ff\">Flatten</span>)               │ ?                      │   <span style=\"color: #00af00; text-decoration-color: #00af00\">0</span> (unbuilt) │\n",
       "├─────────────────────────────────┼────────────────────────┼───────────────┤\n",
       "│ dense (<span style=\"color: #0087ff; text-decoration-color: #0087ff\">Dense</span>)                   │ ?                      │   <span style=\"color: #00af00; text-decoration-color: #00af00\">0</span> (unbuilt) │\n",
       "├─────────────────────────────────┼────────────────────────┼───────────────┤\n",
       "│ dropout_1 (<span style=\"color: #0087ff; text-decoration-color: #0087ff\">Dropout</span>)             │ ?                      │             <span style=\"color: #00af00; text-decoration-color: #00af00\">0</span> │\n",
       "├─────────────────────────────────┼────────────────────────┼───────────────┤\n",
       "│ dense_1 (<span style=\"color: #0087ff; text-decoration-color: #0087ff\">Dense</span>)                 │ ?                      │   <span style=\"color: #00af00; text-decoration-color: #00af00\">0</span> (unbuilt) │\n",
       "├─────────────────────────────────┼────────────────────────┼───────────────┤\n",
       "│ dropout_2 (<span style=\"color: #0087ff; text-decoration-color: #0087ff\">Dropout</span>)             │ ?                      │             <span style=\"color: #00af00; text-decoration-color: #00af00\">0</span> │\n",
       "├─────────────────────────────────┼────────────────────────┼───────────────┤\n",
       "│ Output_Layer (<span style=\"color: #0087ff; text-decoration-color: #0087ff\">Dense</span>)            │ ?                      │   <span style=\"color: #00af00; text-decoration-color: #00af00\">0</span> (unbuilt) │\n",
       "└─────────────────────────────────┴────────────────────────┴───────────────┘\n",
       "</pre>\n"
      ],
      "text/plain": [
       "┏━━━━━━━━━━━━━━━━━━━━━━━━━━━━━━━━━┳━━━━━━━━━━━━━━━━━━━━━━━━┳━━━━━━━━━━━━━━━┓\n",
       "┃\u001b[1m \u001b[0m\u001b[1mLayer (type)                   \u001b[0m\u001b[1m \u001b[0m┃\u001b[1m \u001b[0m\u001b[1mOutput Shape          \u001b[0m\u001b[1m \u001b[0m┃\u001b[1m \u001b[0m\u001b[1m      Param #\u001b[0m\u001b[1m \u001b[0m┃\n",
       "┡━━━━━━━━━━━━━━━━━━━━━━━━━━━━━━━━━╇━━━━━━━━━━━━━━━━━━━━━━━━╇━━━━━━━━━━━━━━━┩\n",
       "│ embedding_Layer (\u001b[38;5;33mEmbedding\u001b[0m)     │ ?                      │     \u001b[38;5;34m9,600,000\u001b[0m │\n",
       "├─────────────────────────────────┼────────────────────────┼───────────────┤\n",
       "│ conv1d (\u001b[38;5;33mConv1D\u001b[0m)                 │ ?                      │   \u001b[38;5;34m0\u001b[0m (unbuilt) │\n",
       "├─────────────────────────────────┼────────────────────────┼───────────────┤\n",
       "│ max_pooling1d (\u001b[38;5;33mMaxPooling1D\u001b[0m)    │ ?                      │             \u001b[38;5;34m0\u001b[0m │\n",
       "├─────────────────────────────────┼────────────────────────┼───────────────┤\n",
       "│ dropout (\u001b[38;5;33mDropout\u001b[0m)               │ ?                      │             \u001b[38;5;34m0\u001b[0m │\n",
       "├─────────────────────────────────┼────────────────────────┼───────────────┤\n",
       "│ flatten (\u001b[38;5;33mFlatten\u001b[0m)               │ ?                      │   \u001b[38;5;34m0\u001b[0m (unbuilt) │\n",
       "├─────────────────────────────────┼────────────────────────┼───────────────┤\n",
       "│ dense (\u001b[38;5;33mDense\u001b[0m)                   │ ?                      │   \u001b[38;5;34m0\u001b[0m (unbuilt) │\n",
       "├─────────────────────────────────┼────────────────────────┼───────────────┤\n",
       "│ dropout_1 (\u001b[38;5;33mDropout\u001b[0m)             │ ?                      │             \u001b[38;5;34m0\u001b[0m │\n",
       "├─────────────────────────────────┼────────────────────────┼───────────────┤\n",
       "│ dense_1 (\u001b[38;5;33mDense\u001b[0m)                 │ ?                      │   \u001b[38;5;34m0\u001b[0m (unbuilt) │\n",
       "├─────────────────────────────────┼────────────────────────┼───────────────┤\n",
       "│ dropout_2 (\u001b[38;5;33mDropout\u001b[0m)             │ ?                      │             \u001b[38;5;34m0\u001b[0m │\n",
       "├─────────────────────────────────┼────────────────────────┼───────────────┤\n",
       "│ Output_Layer (\u001b[38;5;33mDense\u001b[0m)            │ ?                      │   \u001b[38;5;34m0\u001b[0m (unbuilt) │\n",
       "└─────────────────────────────────┴────────────────────────┴───────────────┘\n"
      ]
     },
     "metadata": {},
     "output_type": "display_data"
    },
    {
     "data": {
      "text/html": [
       "<pre style=\"white-space:pre;overflow-x:auto;line-height:normal;font-family:Menlo,'DejaVu Sans Mono',consolas,'Courier New',monospace\"><span style=\"font-weight: bold\"> Total params: </span><span style=\"color: #00af00; text-decoration-color: #00af00\">9,600,000</span> (36.62 MB)\n",
       "</pre>\n"
      ],
      "text/plain": [
       "\u001b[1m Total params: \u001b[0m\u001b[38;5;34m9,600,000\u001b[0m (36.62 MB)\n"
      ]
     },
     "metadata": {},
     "output_type": "display_data"
    },
    {
     "data": {
      "text/html": [
       "<pre style=\"white-space:pre;overflow-x:auto;line-height:normal;font-family:Menlo,'DejaVu Sans Mono',consolas,'Courier New',monospace\"><span style=\"font-weight: bold\"> Trainable params: </span><span style=\"color: #00af00; text-decoration-color: #00af00\">9,600,000</span> (36.62 MB)\n",
       "</pre>\n"
      ],
      "text/plain": [
       "\u001b[1m Trainable params: \u001b[0m\u001b[38;5;34m9,600,000\u001b[0m (36.62 MB)\n"
      ]
     },
     "metadata": {},
     "output_type": "display_data"
    },
    {
     "data": {
      "text/html": [
       "<pre style=\"white-space:pre;overflow-x:auto;line-height:normal;font-family:Menlo,'DejaVu Sans Mono',consolas,'Courier New',monospace\"><span style=\"font-weight: bold\"> Non-trainable params: </span><span style=\"color: #00af00; text-decoration-color: #00af00\">0</span> (0.00 B)\n",
       "</pre>\n"
      ],
      "text/plain": [
       "\u001b[1m Non-trainable params: \u001b[0m\u001b[38;5;34m0\u001b[0m (0.00 B)\n"
      ]
     },
     "metadata": {},
     "output_type": "display_data"
    },
    {
     "name": "stdout",
     "output_type": "stream",
     "text": [
      "Epoch 1/10\n",
      "\u001b[1m300/300\u001b[0m \u001b[32m━━━━━━━━━━━━━━━━━━━━\u001b[0m\u001b[37m\u001b[0m \u001b[1m183s\u001b[0m 596ms/step - accuracy: 0.4077 - f1_m: 0.1379 - loss: 4.8390 - precision_m: 0.4707 - recall_m: 0.0820 - val_accuracy: 0.5070 - val_f1_m: 0.2640 - val_loss: 2.9394 - val_precision_m: 0.6498 - val_recall_m: 0.1661\n",
      "Epoch 2/10\n",
      "\u001b[1m300/300\u001b[0m \u001b[32m━━━━━━━━━━━━━━━━━━━━\u001b[0m\u001b[37m\u001b[0m \u001b[1m167s\u001b[0m 557ms/step - accuracy: 0.5360 - f1_m: 0.3623 - loss: 2.5327 - precision_m: 0.6358 - recall_m: 0.2585 - val_accuracy: 0.6805 - val_f1_m: 0.6451 - val_loss: 1.5523 - val_precision_m: 0.7475 - val_recall_m: 0.5679\n",
      "Epoch 3/10\n",
      "\u001b[1m300/300\u001b[0m \u001b[32m━━━━━━━━━━━━━━━━━━━━\u001b[0m\u001b[37m\u001b[0m \u001b[1m158s\u001b[0m 526ms/step - accuracy: 0.6751 - f1_m: 0.6284 - loss: 1.4596 - precision_m: 0.7349 - recall_m: 0.5496 - val_accuracy: 0.7456 - val_f1_m: 0.7275 - val_loss: 1.1020 - val_precision_m: 0.7859 - val_recall_m: 0.6774\n",
      "Epoch 4/10\n",
      "\u001b[1m300/300\u001b[0m \u001b[32m━━━━━━━━━━━━━━━━━━━━\u001b[0m\u001b[37m\u001b[0m \u001b[1m160s\u001b[0m 534ms/step - accuracy: 0.7431 - f1_m: 0.7233 - loss: 1.0867 - precision_m: 0.7904 - recall_m: 0.6670 - val_accuracy: 0.7843 - val_f1_m: 0.7785 - val_loss: 0.9054 - val_precision_m: 0.8193 - val_recall_m: 0.7417\n",
      "Epoch 5/10\n",
      "\u001b[1m300/300\u001b[0m \u001b[32m━━━━━━━━━━━━━━━━━━━━\u001b[0m\u001b[37m\u001b[0m \u001b[1m153s\u001b[0m 510ms/step - accuracy: 0.7922 - f1_m: 0.7796 - loss: 0.9004 - precision_m: 0.8283 - recall_m: 0.7365 - val_accuracy: 0.8165 - val_f1_m: 0.8117 - val_loss: 0.7812 - val_precision_m: 0.8445 - val_recall_m: 0.7814\n",
      "Epoch 6/10\n",
      "\u001b[1m300/300\u001b[0m \u001b[32m━━━━━━━━━━━━━━━━━━━━\u001b[0m\u001b[37m\u001b[0m \u001b[1m157s\u001b[0m 524ms/step - accuracy: 0.8282 - f1_m: 0.8212 - loss: 0.7710 - precision_m: 0.8573 - recall_m: 0.7881 - val_accuracy: 0.8383 - val_f1_m: 0.8346 - val_loss: 0.6934 - val_precision_m: 0.8594 - val_recall_m: 0.8112\n",
      "Epoch 7/10\n",
      "\u001b[1m300/300\u001b[0m \u001b[32m━━━━━━━━━━━━━━━━━━━━\u001b[0m\u001b[37m\u001b[0m \u001b[1m161s\u001b[0m 535ms/step - accuracy: 0.8511 - f1_m: 0.8466 - loss: 0.6787 - precision_m: 0.8745 - recall_m: 0.8205 - val_accuracy: 0.8540 - val_f1_m: 0.8516 - val_loss: 0.6294 - val_precision_m: 0.8744 - val_recall_m: 0.8300\n",
      "Epoch 8/10\n",
      "\u001b[1m300/300\u001b[0m \u001b[32m━━━━━━━━━━━━━━━━━━━━\u001b[0m\u001b[37m\u001b[0m \u001b[1m162s\u001b[0m 540ms/step - accuracy: 0.8697 - f1_m: 0.8661 - loss: 0.6124 - precision_m: 0.8899 - recall_m: 0.8437 - val_accuracy: 0.8659 - val_f1_m: 0.8643 - val_loss: 0.5795 - val_precision_m: 0.8825 - val_recall_m: 0.8469\n",
      "Epoch 9/10\n",
      "\u001b[1m300/300\u001b[0m \u001b[32m━━━━━━━━━━━━━━━━━━━━\u001b[0m\u001b[37m\u001b[0m \u001b[1m153s\u001b[0m 510ms/step - accuracy: 0.8840 - f1_m: 0.8808 - loss: 0.5552 - precision_m: 0.9003 - recall_m: 0.8622 - val_accuracy: 0.8730 - val_f1_m: 0.8707 - val_loss: 0.5426 - val_precision_m: 0.8875 - val_recall_m: 0.8545\n",
      "Epoch 10/10\n",
      "\u001b[1m300/300\u001b[0m \u001b[32m━━━━━━━━━━━━━━━━━━━━\u001b[0m\u001b[37m\u001b[0m \u001b[1m156s\u001b[0m 519ms/step - accuracy: 0.8936 - f1_m: 0.8920 - loss: 0.5140 - precision_m: 0.9091 - recall_m: 0.8756 - val_accuracy: 0.8805 - val_f1_m: 0.8790 - val_loss: 0.5148 - val_precision_m: 0.8942 - val_recall_m: 0.8644\n",
      "History saved successfully!\n",
      "You must install graphviz (see instructions at https://graphviz.gitlab.io/download/) for `plot_model` to work.\n"
     ]
    }
   ],
   "source": [
    "# Trial-1 (embedding_trainable=True)\n",
    "cnn_model_trial1 = buat_cnn(embedding_trainable=True, Conv1D_1=True, Conv1D_2=False, Conv1D_3=False, _learning_rate=0.0001, model_name='CNN_Trial-1')\n",
    "\n",
    "# Latih Model\n",
    "cnn_model_trial1_history = cnn_model_trial1.fit(x_train, y_train,epochs=10, verbose=1,batch_size=256,validation_split=0.2)\n",
    "\n",
    "# Menyimpan riwayat pelatihan ke file .pkl\n",
    "import pickle\n",
    "with open('CNN_model_trial1_history.pkl', 'wb') as file:\n",
    "    pickle.dump(cnn_model_trial1_history.history, file)\n",
    "\n",
    "print(\"History saved successfully!\")\n",
    "\n",
    "'''Plotting Model Architecture For Trial-1'''\n",
    "tf.keras.utils.plot_model(cnn_model_trial1, show_shapes=True)\n",
    "#plt.savefig('Images/CNN Model (Trial 1).png')\n",
    "\n",
    "cnn_model_trials_dict['Embedding layer Trainable'][0]='Yes'"
   ]
  },
  {
   "cell_type": "code",
   "execution_count": null,
   "metadata": {},
   "outputs": [],
   "source": [
    "#Evaluasi Model\n",
    "# Trial-1\n",
    "training_score = cnn_model_trial1.evaluate(x_train, y_train)\n",
    "testing_score = cnn_model_trial1.evaluate(x_test, y_test)\n",
    "\n",
    "print(f'\\nTrial 1')\n",
    "print(f'Training Accuaracy (Trial 1): {round(training_score[1]*100,1)}%')\n",
    "print(f'Testing Accuaracy (Trial 1): {round(testing_score[1]*100,1)}%')"
   ]
  },
  {
   "cell_type": "code",
   "execution_count": 35,
   "metadata": {},
   "outputs": [],
   "source": [
    "#Menyimpan Hassil Evaluasi\n",
    "cnn_model_trials_dict['Training Accuaracy'][0]=round(training_score[1]*100,1)\n",
    "cnn_model_trials_dict['Testing Accuaracy'][0]=round(testing_score[1]*100,1)\n",
    "cnn_model_trials_dict['Loss'][0] = round(testing_score[0], 2)"
   ]
  },
  {
   "cell_type": "code",
   "execution_count": null,
   "metadata": {},
   "outputs": [],
   "source": [
    "# Plotting hasil pelatihan\n",
    "plotting_model_measurements(cnn_model_trial1_history,'CNN',1)"
   ]
  },
  {
   "cell_type": "code",
   "execution_count": 44,
   "metadata": {},
   "outputs": [],
   "source": [
    "cnn_model_trial1.compile(optimizer='adam', loss='categorical_crossentropy', metrics=['accuracy'])"
   ]
  },
  {
   "cell_type": "code",
   "execution_count": null,
   "metadata": {},
   "outputs": [],
   "source": [
    "# Menyimpan model format SaveModel\n",
    "cnn_model_trial1.save('CG/CNN_model_trial1.h5')\n",
    "print(\"Model saved successfully!\")"
   ]
  },
  {
   "cell_type": "code",
   "execution_count": null,
   "metadata": {},
   "outputs": [],
   "source": [
    "# Fungsi untuk memproses teks input\n",
    "def preprocess_input_text(text):\n",
    "    text = text_preprocessing_process(text)  # Menggunakan fungsi preprocessing sebelumnya\n",
    "    sequence = tokenizer.texts_to_sequences([text])\n",
    "    padded_sequence = pad_sequences(sequence, maxlen=max_num_of_words)\n",
    "    return padded_sequence\n",
    "\n",
    "# Fungsi prediksi sentimen\n",
    "def predict_sentiment(input_text):\n",
    "    processed_input = preprocess_input_text(input_text)\n",
    "    prediction = cnn_model_trial1.predict(processed_input)\n",
    "    sentiment = np.argmax(prediction, axis=1)[0]  # Mendapatkan kelas prediksi (0, 1, atau 2)\n",
    "    confidence = prediction[0][sentiment]  # Probabilitas kelas tertinggi\n",
    "    if sentiment == 0:\n",
    "        return \"bad\", confidence\n",
    "    elif sentiment == 1:\n",
    "        return \"good\", confidence\n",
    "    else:\n",
    "        return \"neutral\", confidence\n",
    "\n",
    "# Contoh input\n",
    "data_input = \"chatgpt very helpful\"\n",
    "predicted_sentiment, confidence = predict_sentiment(data_input)\n",
    "\n",
    "print(\"Input:\", data_input)\n",
    "print(\"Predicted Sentiment:\", predicted_sentiment)\n",
    "print(\"Confidence:\", round(confidence * 100, 2), \"%\")\n"
   ]
  },
  {
   "cell_type": "code",
   "execution_count": 25,
   "metadata": {
    "colab": {
     "base_uri": "https://localhost:8080/",
     "height": 844
    },
    "id": "D3Yke1QZv_jF",
    "outputId": "b09b7f41-807a-47b5-97bf-fac2ccf5e08f"
   },
   "outputs": [
    {
     "data": {
      "text/html": [
       "<pre style=\"white-space:pre;overflow-x:auto;line-height:normal;font-family:Menlo,'DejaVu Sans Mono',consolas,'Courier New',monospace\"><span style=\"font-weight: bold\">Model: \"CNN_Trial-2\"</span>\n",
       "</pre>\n"
      ],
      "text/plain": [
       "\u001b[1mModel: \"CNN_Trial-2\"\u001b[0m\n"
      ]
     },
     "metadata": {},
     "output_type": "display_data"
    },
    {
     "data": {
      "text/html": [
       "<pre style=\"white-space:pre;overflow-x:auto;line-height:normal;font-family:Menlo,'DejaVu Sans Mono',consolas,'Courier New',monospace\">┏━━━━━━━━━━━━━━━━━━━━━━━━━━━━━━━━━┳━━━━━━━━━━━━━━━━━━━━━━━━┳━━━━━━━━━━━━━━━┓\n",
       "┃<span style=\"font-weight: bold\"> Layer (type)                    </span>┃<span style=\"font-weight: bold\"> Output Shape           </span>┃<span style=\"font-weight: bold\">       Param # </span>┃\n",
       "┡━━━━━━━━━━━━━━━━━━━━━━━━━━━━━━━━━╇━━━━━━━━━━━━━━━━━━━━━━━━╇━━━━━━━━━━━━━━━┩\n",
       "│ embedding_Layer (<span style=\"color: #0087ff; text-decoration-color: #0087ff\">Embedding</span>)     │ ?                      │     <span style=\"color: #00af00; text-decoration-color: #00af00\">9,600,000</span> │\n",
       "├─────────────────────────────────┼────────────────────────┼───────────────┤\n",
       "│ conv1d_1 (<span style=\"color: #0087ff; text-decoration-color: #0087ff\">Conv1D</span>)               │ ?                      │   <span style=\"color: #00af00; text-decoration-color: #00af00\">0</span> (unbuilt) │\n",
       "├─────────────────────────────────┼────────────────────────┼───────────────┤\n",
       "│ max_pooling1d_1 (<span style=\"color: #0087ff; text-decoration-color: #0087ff\">MaxPooling1D</span>)  │ ?                      │             <span style=\"color: #00af00; text-decoration-color: #00af00\">0</span> │\n",
       "├─────────────────────────────────┼────────────────────────┼───────────────┤\n",
       "│ dropout_3 (<span style=\"color: #0087ff; text-decoration-color: #0087ff\">Dropout</span>)             │ ?                      │             <span style=\"color: #00af00; text-decoration-color: #00af00\">0</span> │\n",
       "├─────────────────────────────────┼────────────────────────┼───────────────┤\n",
       "│ flatten_1 (<span style=\"color: #0087ff; text-decoration-color: #0087ff\">Flatten</span>)             │ ?                      │   <span style=\"color: #00af00; text-decoration-color: #00af00\">0</span> (unbuilt) │\n",
       "├─────────────────────────────────┼────────────────────────┼───────────────┤\n",
       "│ dense_2 (<span style=\"color: #0087ff; text-decoration-color: #0087ff\">Dense</span>)                 │ ?                      │   <span style=\"color: #00af00; text-decoration-color: #00af00\">0</span> (unbuilt) │\n",
       "├─────────────────────────────────┼────────────────────────┼───────────────┤\n",
       "│ dropout_4 (<span style=\"color: #0087ff; text-decoration-color: #0087ff\">Dropout</span>)             │ ?                      │             <span style=\"color: #00af00; text-decoration-color: #00af00\">0</span> │\n",
       "├─────────────────────────────────┼────────────────────────┼───────────────┤\n",
       "│ dense_3 (<span style=\"color: #0087ff; text-decoration-color: #0087ff\">Dense</span>)                 │ ?                      │   <span style=\"color: #00af00; text-decoration-color: #00af00\">0</span> (unbuilt) │\n",
       "├─────────────────────────────────┼────────────────────────┼───────────────┤\n",
       "│ dropout_5 (<span style=\"color: #0087ff; text-decoration-color: #0087ff\">Dropout</span>)             │ ?                      │             <span style=\"color: #00af00; text-decoration-color: #00af00\">0</span> │\n",
       "├─────────────────────────────────┼────────────────────────┼───────────────┤\n",
       "│ Output_Layer (<span style=\"color: #0087ff; text-decoration-color: #0087ff\">Dense</span>)            │ ?                      │   <span style=\"color: #00af00; text-decoration-color: #00af00\">0</span> (unbuilt) │\n",
       "└─────────────────────────────────┴────────────────────────┴───────────────┘\n",
       "</pre>\n"
      ],
      "text/plain": [
       "┏━━━━━━━━━━━━━━━━━━━━━━━━━━━━━━━━━┳━━━━━━━━━━━━━━━━━━━━━━━━┳━━━━━━━━━━━━━━━┓\n",
       "┃\u001b[1m \u001b[0m\u001b[1mLayer (type)                   \u001b[0m\u001b[1m \u001b[0m┃\u001b[1m \u001b[0m\u001b[1mOutput Shape          \u001b[0m\u001b[1m \u001b[0m┃\u001b[1m \u001b[0m\u001b[1m      Param #\u001b[0m\u001b[1m \u001b[0m┃\n",
       "┡━━━━━━━━━━━━━━━━━━━━━━━━━━━━━━━━━╇━━━━━━━━━━━━━━━━━━━━━━━━╇━━━━━━━━━━━━━━━┩\n",
       "│ embedding_Layer (\u001b[38;5;33mEmbedding\u001b[0m)     │ ?                      │     \u001b[38;5;34m9,600,000\u001b[0m │\n",
       "├─────────────────────────────────┼────────────────────────┼───────────────┤\n",
       "│ conv1d_1 (\u001b[38;5;33mConv1D\u001b[0m)               │ ?                      │   \u001b[38;5;34m0\u001b[0m (unbuilt) │\n",
       "├─────────────────────────────────┼────────────────────────┼───────────────┤\n",
       "│ max_pooling1d_1 (\u001b[38;5;33mMaxPooling1D\u001b[0m)  │ ?                      │             \u001b[38;5;34m0\u001b[0m │\n",
       "├─────────────────────────────────┼────────────────────────┼───────────────┤\n",
       "│ dropout_3 (\u001b[38;5;33mDropout\u001b[0m)             │ ?                      │             \u001b[38;5;34m0\u001b[0m │\n",
       "├─────────────────────────────────┼────────────────────────┼───────────────┤\n",
       "│ flatten_1 (\u001b[38;5;33mFlatten\u001b[0m)             │ ?                      │   \u001b[38;5;34m0\u001b[0m (unbuilt) │\n",
       "├─────────────────────────────────┼────────────────────────┼───────────────┤\n",
       "│ dense_2 (\u001b[38;5;33mDense\u001b[0m)                 │ ?                      │   \u001b[38;5;34m0\u001b[0m (unbuilt) │\n",
       "├─────────────────────────────────┼────────────────────────┼───────────────┤\n",
       "│ dropout_4 (\u001b[38;5;33mDropout\u001b[0m)             │ ?                      │             \u001b[38;5;34m0\u001b[0m │\n",
       "├─────────────────────────────────┼────────────────────────┼───────────────┤\n",
       "│ dense_3 (\u001b[38;5;33mDense\u001b[0m)                 │ ?                      │   \u001b[38;5;34m0\u001b[0m (unbuilt) │\n",
       "├─────────────────────────────────┼────────────────────────┼───────────────┤\n",
       "│ dropout_5 (\u001b[38;5;33mDropout\u001b[0m)             │ ?                      │             \u001b[38;5;34m0\u001b[0m │\n",
       "├─────────────────────────────────┼────────────────────────┼───────────────┤\n",
       "│ Output_Layer (\u001b[38;5;33mDense\u001b[0m)            │ ?                      │   \u001b[38;5;34m0\u001b[0m (unbuilt) │\n",
       "└─────────────────────────────────┴────────────────────────┴───────────────┘\n"
      ]
     },
     "metadata": {},
     "output_type": "display_data"
    },
    {
     "data": {
      "text/html": [
       "<pre style=\"white-space:pre;overflow-x:auto;line-height:normal;font-family:Menlo,'DejaVu Sans Mono',consolas,'Courier New',monospace\"><span style=\"font-weight: bold\"> Total params: </span><span style=\"color: #00af00; text-decoration-color: #00af00\">9,600,000</span> (36.62 MB)\n",
       "</pre>\n"
      ],
      "text/plain": [
       "\u001b[1m Total params: \u001b[0m\u001b[38;5;34m9,600,000\u001b[0m (36.62 MB)\n"
      ]
     },
     "metadata": {},
     "output_type": "display_data"
    },
    {
     "data": {
      "text/html": [
       "<pre style=\"white-space:pre;overflow-x:auto;line-height:normal;font-family:Menlo,'DejaVu Sans Mono',consolas,'Courier New',monospace\"><span style=\"font-weight: bold\"> Trainable params: </span><span style=\"color: #00af00; text-decoration-color: #00af00\">0</span> (0.00 B)\n",
       "</pre>\n"
      ],
      "text/plain": [
       "\u001b[1m Trainable params: \u001b[0m\u001b[38;5;34m0\u001b[0m (0.00 B)\n"
      ]
     },
     "metadata": {},
     "output_type": "display_data"
    },
    {
     "data": {
      "text/html": [
       "<pre style=\"white-space:pre;overflow-x:auto;line-height:normal;font-family:Menlo,'DejaVu Sans Mono',consolas,'Courier New',monospace\"><span style=\"font-weight: bold\"> Non-trainable params: </span><span style=\"color: #00af00; text-decoration-color: #00af00\">9,600,000</span> (36.62 MB)\n",
       "</pre>\n"
      ],
      "text/plain": [
       "\u001b[1m Non-trainable params: \u001b[0m\u001b[38;5;34m9,600,000\u001b[0m (36.62 MB)\n"
      ]
     },
     "metadata": {},
     "output_type": "display_data"
    },
    {
     "name": "stdout",
     "output_type": "stream",
     "text": [
      "Epoch 1/10\n",
      "\u001b[1m300/300\u001b[0m \u001b[32m━━━━━━━━━━━━━━━━━━━━\u001b[0m\u001b[37m\u001b[0m \u001b[1m110s\u001b[0m 350ms/step - accuracy: 0.4415 - f1_m: 0.1906 - loss: 2.0114 - precision_m: 0.5934 - recall_m: 0.1207 - val_accuracy: 0.5829 - val_f1_m: 0.4090 - val_loss: 1.1298 - val_precision_m: 0.7476 - val_recall_m: 0.2821\n",
      "Epoch 2/10\n",
      "\u001b[1m300/300\u001b[0m \u001b[32m━━━━━━━━━━━━━━━━━━━━\u001b[0m\u001b[37m\u001b[0m \u001b[1m105s\u001b[0m 350ms/step - accuracy: 0.5900 - f1_m: 0.4819 - loss: 1.1740 - precision_m: 0.6879 - recall_m: 0.3774 - val_accuracy: 0.7164 - val_f1_m: 0.6864 - val_loss: 1.0434 - val_precision_m: 0.7769 - val_recall_m: 0.6150\n",
      "Epoch 3/10\n",
      "\u001b[1m300/300\u001b[0m \u001b[32m━━━━━━━━━━━━━━━━━━━━\u001b[0m\u001b[37m\u001b[0m \u001b[1m109s\u001b[0m 364ms/step - accuracy: 0.6726 - f1_m: 0.6376 - loss: 1.1369 - precision_m: 0.7335 - recall_m: 0.5646 - val_accuracy: 0.7479 - val_f1_m: 0.7372 - val_loss: 0.9895 - val_precision_m: 0.7854 - val_recall_m: 0.6947\n",
      "Epoch 4/10\n",
      "\u001b[1m300/300\u001b[0m \u001b[32m━━━━━━━━━━━━━━━━━━━━\u001b[0m\u001b[37m\u001b[0m \u001b[1m101s\u001b[0m 338ms/step - accuracy: 0.6987 - f1_m: 0.6738 - loss: 1.0984 - precision_m: 0.7479 - recall_m: 0.6137 - val_accuracy: 0.7569 - val_f1_m: 0.7359 - val_loss: 0.9932 - val_precision_m: 0.8137 - val_recall_m: 0.6721\n",
      "Epoch 5/10\n",
      "\u001b[1m300/300\u001b[0m \u001b[32m━━━━━━━━━━━━━━━━━━━━\u001b[0m\u001b[37m\u001b[0m \u001b[1m99s\u001b[0m 331ms/step - accuracy: 0.7130 - f1_m: 0.6930 - loss: 1.0742 - precision_m: 0.7561 - recall_m: 0.6399 - val_accuracy: 0.7683 - val_f1_m: 0.7600 - val_loss: 1.0282 - val_precision_m: 0.8011 - val_recall_m: 0.7231\n",
      "Epoch 6/10\n",
      "\u001b[1m300/300\u001b[0m \u001b[32m━━━━━━━━━━━━━━━━━━━━\u001b[0m\u001b[37m\u001b[0m \u001b[1m100s\u001b[0m 333ms/step - accuracy: 0.7190 - f1_m: 0.7026 - loss: 1.0907 - precision_m: 0.7592 - recall_m: 0.6543 - val_accuracy: 0.7626 - val_f1_m: 0.7529 - val_loss: 0.9541 - val_precision_m: 0.7938 - val_recall_m: 0.7161\n",
      "Epoch 7/10\n",
      "\u001b[1m300/300\u001b[0m \u001b[32m━━━━━━━━━━━━━━━━━━━━\u001b[0m\u001b[37m\u001b[0m \u001b[1m99s\u001b[0m 329ms/step - accuracy: 0.7284 - f1_m: 0.7162 - loss: 1.0501 - precision_m: 0.7668 - recall_m: 0.6721 - val_accuracy: 0.7801 - val_f1_m: 0.7743 - val_loss: 0.9442 - val_precision_m: 0.8074 - val_recall_m: 0.7439\n",
      "Epoch 8/10\n",
      "\u001b[1m300/300\u001b[0m \u001b[32m━━━━━━━━━━━━━━━━━━━━\u001b[0m\u001b[37m\u001b[0m \u001b[1m96s\u001b[0m 320ms/step - accuracy: 0.7328 - f1_m: 0.7217 - loss: 1.0617 - precision_m: 0.7702 - recall_m: 0.6791 - val_accuracy: 0.7741 - val_f1_m: 0.7670 - val_loss: 0.9316 - val_precision_m: 0.8014 - val_recall_m: 0.7356\n",
      "Epoch 9/10\n",
      "\u001b[1m300/300\u001b[0m \u001b[32m━━━━━━━━━━━━━━━━━━━━\u001b[0m\u001b[37m\u001b[0m \u001b[1m106s\u001b[0m 354ms/step - accuracy: 0.7418 - f1_m: 0.7318 - loss: 1.0448 - precision_m: 0.7763 - recall_m: 0.6923 - val_accuracy: 0.7834 - val_f1_m: 0.7749 - val_loss: 0.9789 - val_precision_m: 0.8166 - val_recall_m: 0.7373\n",
      "Epoch 10/10\n",
      "\u001b[1m300/300\u001b[0m \u001b[32m━━━━━━━━━━━━━━━━━━━━\u001b[0m\u001b[37m\u001b[0m \u001b[1m96s\u001b[0m 321ms/step - accuracy: 0.7429 - f1_m: 0.7322 - loss: 1.0602 - precision_m: 0.7741 - recall_m: 0.6947 - val_accuracy: 0.7813 - val_f1_m: 0.7737 - val_loss: 0.9643 - val_precision_m: 0.8133 - val_recall_m: 0.7379\n",
      "You must install graphviz (see instructions at https://graphviz.gitlab.io/download/) for `plot_model` to work.\n"
     ]
    }
   ],
   "source": [
    "# Trial-2 (embedding_trainable=False)\n",
    "\n",
    "cnn_model_trial2 = buat_cnn(embedding_trainable=False, Conv1D_1=True, Conv1D_2=False, Conv1D_3=False, _learning_rate=0.01, model_name='CNN_Trial-2')\n",
    "cnn_model_trial2_history = cnn_model_trial2.fit(x_train, y_train,epochs=10, verbose=1,batch_size=256,validation_split=0.2)\n",
    "\n",
    "'''Plotting Model Architecture For Trial-2'''\n",
    "tf.keras.utils.plot_model(cnn_model_trial2, show_shapes=True)\n",
    "#to_file=('/content/drive/MyDrive/Python/CNN_Model_Trial_2.png')\n",
    "#plt.savefig('/content/drive/MyDrive/Python/CNN Model Trial 2.png')\n",
    "\n",
    "cnn_model_trials_dict['Embedding layer Trainable'][1]='No'"
   ]
  },
  {
   "cell_type": "code",
   "execution_count": 26,
   "metadata": {
    "colab": {
     "base_uri": "https://localhost:8080/",
     "height": 993
    },
    "id": "6xKZ26-RwEUf",
    "outputId": "3876e40c-00ad-49de-8981-efeb5a47208c"
   },
   "outputs": [
    {
     "data": {
      "text/html": [
       "<pre style=\"white-space:pre;overflow-x:auto;line-height:normal;font-family:Menlo,'DejaVu Sans Mono',consolas,'Courier New',monospace\"><span style=\"font-weight: bold\">Model: \"CNN_Trial-3\"</span>\n",
       "</pre>\n"
      ],
      "text/plain": [
       "\u001b[1mModel: \"CNN_Trial-3\"\u001b[0m\n"
      ]
     },
     "metadata": {},
     "output_type": "display_data"
    },
    {
     "data": {
      "text/html": [
       "<pre style=\"white-space:pre;overflow-x:auto;line-height:normal;font-family:Menlo,'DejaVu Sans Mono',consolas,'Courier New',monospace\">┏━━━━━━━━━━━━━━━━━━━━━━━━━━━━━━━━━┳━━━━━━━━━━━━━━━━━━━━━━━━┳━━━━━━━━━━━━━━━┓\n",
       "┃<span style=\"font-weight: bold\"> Layer (type)                    </span>┃<span style=\"font-weight: bold\"> Output Shape           </span>┃<span style=\"font-weight: bold\">       Param # </span>┃\n",
       "┡━━━━━━━━━━━━━━━━━━━━━━━━━━━━━━━━━╇━━━━━━━━━━━━━━━━━━━━━━━━╇━━━━━━━━━━━━━━━┩\n",
       "│ embedding_Layer (<span style=\"color: #0087ff; text-decoration-color: #0087ff\">Embedding</span>)     │ ?                      │     <span style=\"color: #00af00; text-decoration-color: #00af00\">9,600,000</span> │\n",
       "├─────────────────────────────────┼────────────────────────┼───────────────┤\n",
       "│ conv1d_2 (<span style=\"color: #0087ff; text-decoration-color: #0087ff\">Conv1D</span>)               │ ?                      │   <span style=\"color: #00af00; text-decoration-color: #00af00\">0</span> (unbuilt) │\n",
       "├─────────────────────────────────┼────────────────────────┼───────────────┤\n",
       "│ max_pooling1d_2 (<span style=\"color: #0087ff; text-decoration-color: #0087ff\">MaxPooling1D</span>)  │ ?                      │             <span style=\"color: #00af00; text-decoration-color: #00af00\">0</span> │\n",
       "├─────────────────────────────────┼────────────────────────┼───────────────┤\n",
       "│ conv1d_3 (<span style=\"color: #0087ff; text-decoration-color: #0087ff\">Conv1D</span>)               │ ?                      │   <span style=\"color: #00af00; text-decoration-color: #00af00\">0</span> (unbuilt) │\n",
       "├─────────────────────────────────┼────────────────────────┼───────────────┤\n",
       "│ max_pooling1d_3 (<span style=\"color: #0087ff; text-decoration-color: #0087ff\">MaxPooling1D</span>)  │ ?                      │             <span style=\"color: #00af00; text-decoration-color: #00af00\">0</span> │\n",
       "├─────────────────────────────────┼────────────────────────┼───────────────┤\n",
       "│ conv1d_4 (<span style=\"color: #0087ff; text-decoration-color: #0087ff\">Conv1D</span>)               │ ?                      │   <span style=\"color: #00af00; text-decoration-color: #00af00\">0</span> (unbuilt) │\n",
       "├─────────────────────────────────┼────────────────────────┼───────────────┤\n",
       "│ max_pooling1d_4 (<span style=\"color: #0087ff; text-decoration-color: #0087ff\">MaxPooling1D</span>)  │ ?                      │             <span style=\"color: #00af00; text-decoration-color: #00af00\">0</span> │\n",
       "├─────────────────────────────────┼────────────────────────┼───────────────┤\n",
       "│ dropout_6 (<span style=\"color: #0087ff; text-decoration-color: #0087ff\">Dropout</span>)             │ ?                      │             <span style=\"color: #00af00; text-decoration-color: #00af00\">0</span> │\n",
       "├─────────────────────────────────┼────────────────────────┼───────────────┤\n",
       "│ flatten_2 (<span style=\"color: #0087ff; text-decoration-color: #0087ff\">Flatten</span>)             │ ?                      │   <span style=\"color: #00af00; text-decoration-color: #00af00\">0</span> (unbuilt) │\n",
       "├─────────────────────────────────┼────────────────────────┼───────────────┤\n",
       "│ dense_4 (<span style=\"color: #0087ff; text-decoration-color: #0087ff\">Dense</span>)                 │ ?                      │   <span style=\"color: #00af00; text-decoration-color: #00af00\">0</span> (unbuilt) │\n",
       "├─────────────────────────────────┼────────────────────────┼───────────────┤\n",
       "│ dropout_7 (<span style=\"color: #0087ff; text-decoration-color: #0087ff\">Dropout</span>)             │ ?                      │             <span style=\"color: #00af00; text-decoration-color: #00af00\">0</span> │\n",
       "├─────────────────────────────────┼────────────────────────┼───────────────┤\n",
       "│ dense_5 (<span style=\"color: #0087ff; text-decoration-color: #0087ff\">Dense</span>)                 │ ?                      │   <span style=\"color: #00af00; text-decoration-color: #00af00\">0</span> (unbuilt) │\n",
       "├─────────────────────────────────┼────────────────────────┼───────────────┤\n",
       "│ dropout_8 (<span style=\"color: #0087ff; text-decoration-color: #0087ff\">Dropout</span>)             │ ?                      │             <span style=\"color: #00af00; text-decoration-color: #00af00\">0</span> │\n",
       "├─────────────────────────────────┼────────────────────────┼───────────────┤\n",
       "│ Output_Layer (<span style=\"color: #0087ff; text-decoration-color: #0087ff\">Dense</span>)            │ ?                      │   <span style=\"color: #00af00; text-decoration-color: #00af00\">0</span> (unbuilt) │\n",
       "└─────────────────────────────────┴────────────────────────┴───────────────┘\n",
       "</pre>\n"
      ],
      "text/plain": [
       "┏━━━━━━━━━━━━━━━━━━━━━━━━━━━━━━━━━┳━━━━━━━━━━━━━━━━━━━━━━━━┳━━━━━━━━━━━━━━━┓\n",
       "┃\u001b[1m \u001b[0m\u001b[1mLayer (type)                   \u001b[0m\u001b[1m \u001b[0m┃\u001b[1m \u001b[0m\u001b[1mOutput Shape          \u001b[0m\u001b[1m \u001b[0m┃\u001b[1m \u001b[0m\u001b[1m      Param #\u001b[0m\u001b[1m \u001b[0m┃\n",
       "┡━━━━━━━━━━━━━━━━━━━━━━━━━━━━━━━━━╇━━━━━━━━━━━━━━━━━━━━━━━━╇━━━━━━━━━━━━━━━┩\n",
       "│ embedding_Layer (\u001b[38;5;33mEmbedding\u001b[0m)     │ ?                      │     \u001b[38;5;34m9,600,000\u001b[0m │\n",
       "├─────────────────────────────────┼────────────────────────┼───────────────┤\n",
       "│ conv1d_2 (\u001b[38;5;33mConv1D\u001b[0m)               │ ?                      │   \u001b[38;5;34m0\u001b[0m (unbuilt) │\n",
       "├─────────────────────────────────┼────────────────────────┼───────────────┤\n",
       "│ max_pooling1d_2 (\u001b[38;5;33mMaxPooling1D\u001b[0m)  │ ?                      │             \u001b[38;5;34m0\u001b[0m │\n",
       "├─────────────────────────────────┼────────────────────────┼───────────────┤\n",
       "│ conv1d_3 (\u001b[38;5;33mConv1D\u001b[0m)               │ ?                      │   \u001b[38;5;34m0\u001b[0m (unbuilt) │\n",
       "├─────────────────────────────────┼────────────────────────┼───────────────┤\n",
       "│ max_pooling1d_3 (\u001b[38;5;33mMaxPooling1D\u001b[0m)  │ ?                      │             \u001b[38;5;34m0\u001b[0m │\n",
       "├─────────────────────────────────┼────────────────────────┼───────────────┤\n",
       "│ conv1d_4 (\u001b[38;5;33mConv1D\u001b[0m)               │ ?                      │   \u001b[38;5;34m0\u001b[0m (unbuilt) │\n",
       "├─────────────────────────────────┼────────────────────────┼───────────────┤\n",
       "│ max_pooling1d_4 (\u001b[38;5;33mMaxPooling1D\u001b[0m)  │ ?                      │             \u001b[38;5;34m0\u001b[0m │\n",
       "├─────────────────────────────────┼────────────────────────┼───────────────┤\n",
       "│ dropout_6 (\u001b[38;5;33mDropout\u001b[0m)             │ ?                      │             \u001b[38;5;34m0\u001b[0m │\n",
       "├─────────────────────────────────┼────────────────────────┼───────────────┤\n",
       "│ flatten_2 (\u001b[38;5;33mFlatten\u001b[0m)             │ ?                      │   \u001b[38;5;34m0\u001b[0m (unbuilt) │\n",
       "├─────────────────────────────────┼────────────────────────┼───────────────┤\n",
       "│ dense_4 (\u001b[38;5;33mDense\u001b[0m)                 │ ?                      │   \u001b[38;5;34m0\u001b[0m (unbuilt) │\n",
       "├─────────────────────────────────┼────────────────────────┼───────────────┤\n",
       "│ dropout_7 (\u001b[38;5;33mDropout\u001b[0m)             │ ?                      │             \u001b[38;5;34m0\u001b[0m │\n",
       "├─────────────────────────────────┼────────────────────────┼───────────────┤\n",
       "│ dense_5 (\u001b[38;5;33mDense\u001b[0m)                 │ ?                      │   \u001b[38;5;34m0\u001b[0m (unbuilt) │\n",
       "├─────────────────────────────────┼────────────────────────┼───────────────┤\n",
       "│ dropout_8 (\u001b[38;5;33mDropout\u001b[0m)             │ ?                      │             \u001b[38;5;34m0\u001b[0m │\n",
       "├─────────────────────────────────┼────────────────────────┼───────────────┤\n",
       "│ Output_Layer (\u001b[38;5;33mDense\u001b[0m)            │ ?                      │   \u001b[38;5;34m0\u001b[0m (unbuilt) │\n",
       "└─────────────────────────────────┴────────────────────────┴───────────────┘\n"
      ]
     },
     "metadata": {},
     "output_type": "display_data"
    },
    {
     "data": {
      "text/html": [
       "<pre style=\"white-space:pre;overflow-x:auto;line-height:normal;font-family:Menlo,'DejaVu Sans Mono',consolas,'Courier New',monospace\"><span style=\"font-weight: bold\"> Total params: </span><span style=\"color: #00af00; text-decoration-color: #00af00\">9,600,000</span> (36.62 MB)\n",
       "</pre>\n"
      ],
      "text/plain": [
       "\u001b[1m Total params: \u001b[0m\u001b[38;5;34m9,600,000\u001b[0m (36.62 MB)\n"
      ]
     },
     "metadata": {},
     "output_type": "display_data"
    },
    {
     "data": {
      "text/html": [
       "<pre style=\"white-space:pre;overflow-x:auto;line-height:normal;font-family:Menlo,'DejaVu Sans Mono',consolas,'Courier New',monospace\"><span style=\"font-weight: bold\"> Trainable params: </span><span style=\"color: #00af00; text-decoration-color: #00af00\">0</span> (0.00 B)\n",
       "</pre>\n"
      ],
      "text/plain": [
       "\u001b[1m Trainable params: \u001b[0m\u001b[38;5;34m0\u001b[0m (0.00 B)\n"
      ]
     },
     "metadata": {},
     "output_type": "display_data"
    },
    {
     "data": {
      "text/html": [
       "<pre style=\"white-space:pre;overflow-x:auto;line-height:normal;font-family:Menlo,'DejaVu Sans Mono',consolas,'Courier New',monospace\"><span style=\"font-weight: bold\"> Non-trainable params: </span><span style=\"color: #00af00; text-decoration-color: #00af00\">9,600,000</span> (36.62 MB)\n",
       "</pre>\n"
      ],
      "text/plain": [
       "\u001b[1m Non-trainable params: \u001b[0m\u001b[38;5;34m9,600,000\u001b[0m (36.62 MB)\n"
      ]
     },
     "metadata": {},
     "output_type": "display_data"
    },
    {
     "name": "stdout",
     "output_type": "stream",
     "text": [
      "Epoch 1/10\n",
      "\u001b[1m300/300\u001b[0m \u001b[32m━━━━━━━━━━━━━━━━━━━━\u001b[0m\u001b[37m\u001b[0m \u001b[1m138s\u001b[0m 444ms/step - accuracy: 0.4934 - f1_m: 0.2742 - loss: 1.8048 - precision_m: 0.5774 - recall_m: 0.1963 - val_accuracy: 0.7706 - val_f1_m: 0.7608 - val_loss: 0.6819 - val_precision_m: 0.8057 - val_recall_m: 0.7209\n",
      "Epoch 2/10\n",
      "\u001b[1m300/300\u001b[0m \u001b[32m━━━━━━━━━━━━━━━━━━━━\u001b[0m\u001b[37m\u001b[0m \u001b[1m133s\u001b[0m 443ms/step - accuracy: 0.7888 - f1_m: 0.7767 - loss: 0.6517 - precision_m: 0.8272 - recall_m: 0.7323 - val_accuracy: 0.8048 - val_f1_m: 0.8008 - val_loss: 0.5578 - val_precision_m: 0.8413 - val_recall_m: 0.7641\n",
      "Epoch 3/10\n",
      "\u001b[1m300/300\u001b[0m \u001b[32m━━━━━━━━━━━━━━━━━━━━\u001b[0m\u001b[37m\u001b[0m \u001b[1m127s\u001b[0m 423ms/step - accuracy: 0.8590 - f1_m: 0.8544 - loss: 0.4603 - precision_m: 0.8853 - recall_m: 0.8257 - val_accuracy: 0.8165 - val_f1_m: 0.8144 - val_loss: 0.5380 - val_precision_m: 0.8375 - val_recall_m: 0.7927\n",
      "Epoch 4/10\n",
      "\u001b[1m300/300\u001b[0m \u001b[32m━━━━━━━━━━━━━━━━━━━━\u001b[0m\u001b[37m\u001b[0m \u001b[1m125s\u001b[0m 415ms/step - accuracy: 0.8995 - f1_m: 0.8983 - loss: 0.3458 - precision_m: 0.9179 - recall_m: 0.8796 - val_accuracy: 0.8182 - val_f1_m: 0.8177 - val_loss: 0.5634 - val_precision_m: 0.8340 - val_recall_m: 0.8021\n",
      "Epoch 5/10\n",
      "\u001b[1m300/300\u001b[0m \u001b[32m━━━━━━━━━━━━━━━━━━━━\u001b[0m\u001b[37m\u001b[0m \u001b[1m127s\u001b[0m 423ms/step - accuracy: 0.9309 - f1_m: 0.9300 - loss: 0.2588 - precision_m: 0.9430 - recall_m: 0.9174 - val_accuracy: 0.8174 - val_f1_m: 0.8157 - val_loss: 0.5858 - val_precision_m: 0.8318 - val_recall_m: 0.8002\n",
      "Epoch 6/10\n",
      "\u001b[1m300/300\u001b[0m \u001b[32m━━━━━━━━━━━━━━━━━━━━\u001b[0m\u001b[37m\u001b[0m \u001b[1m127s\u001b[0m 423ms/step - accuracy: 0.9491 - f1_m: 0.9487 - loss: 0.2058 - precision_m: 0.9579 - recall_m: 0.9397 - val_accuracy: 0.8113 - val_f1_m: 0.8091 - val_loss: 0.7345 - val_precision_m: 0.8197 - val_recall_m: 0.7987\n",
      "Epoch 7/10\n",
      "\u001b[1m300/300\u001b[0m \u001b[32m━━━━━━━━━━━━━━━━━━━━\u001b[0m\u001b[37m\u001b[0m \u001b[1m144s\u001b[0m 481ms/step - accuracy: 0.9629 - f1_m: 0.9631 - loss: 0.1606 - precision_m: 0.9698 - recall_m: 0.9566 - val_accuracy: 0.8145 - val_f1_m: 0.8142 - val_loss: 0.7593 - val_precision_m: 0.8238 - val_recall_m: 0.8048\n",
      "Epoch 8/10\n",
      "\u001b[1m300/300\u001b[0m \u001b[32m━━━━━━━━━━━━━━━━━━━━\u001b[0m\u001b[37m\u001b[0m \u001b[1m186s\u001b[0m 428ms/step - accuracy: 0.9700 - f1_m: 0.9702 - loss: 0.1377 - precision_m: 0.9750 - recall_m: 0.9654 - val_accuracy: 0.8148 - val_f1_m: 0.8145 - val_loss: 0.8556 - val_precision_m: 0.8205 - val_recall_m: 0.8086\n",
      "Epoch 9/10\n",
      "\u001b[1m300/300\u001b[0m \u001b[32m━━━━━━━━━━━━━━━━━━━━\u001b[0m\u001b[37m\u001b[0m \u001b[1m123s\u001b[0m 409ms/step - accuracy: 0.9768 - f1_m: 0.9772 - loss: 0.1135 - precision_m: 0.9805 - recall_m: 0.9739 - val_accuracy: 0.8074 - val_f1_m: 0.8071 - val_loss: 0.9181 - val_precision_m: 0.8128 - val_recall_m: 0.8016\n",
      "Epoch 10/10\n",
      "\u001b[1m300/300\u001b[0m \u001b[32m━━━━━━━━━━━━━━━━━━━━\u001b[0m\u001b[37m\u001b[0m \u001b[1m140s\u001b[0m 403ms/step - accuracy: 0.9796 - f1_m: 0.9803 - loss: 0.1029 - precision_m: 0.9836 - recall_m: 0.9769 - val_accuracy: 0.8164 - val_f1_m: 0.8160 - val_loss: 0.8801 - val_precision_m: 0.8217 - val_recall_m: 0.8103\n"
     ]
    }
   ],
   "source": [
    "# Trial-3 (embedding_trainable=False)\n",
    "\n",
    "cnn_model_trial3 = buat_cnn(embedding_trainable=False, Conv1D_1=True, Conv1D_2=True, Conv1D_3=True, _learning_rate=0.001, model_name='CNN_Trial-3')\n",
    "cnn_model_trial3_history = cnn_model_trial3.fit(x_train, y_train,epochs=10, verbose=1,batch_size=256,validation_split=0.2)\n",
    "\n",
    "'''Plotting Model Architecture For Trial-3'''\n",
    "#tf.keras.utils.plot_model(cnn_model_trial3, show_shapes=True)\n",
    "#plt.savefig('/content/drive/MyDrive/Python/CNN Model (Trial 3).png')\n",
    "\n",
    "cnn_model_trials_dict['Embedding layer Trainable'][2]='No'"
   ]
  },
  {
   "cell_type": "code",
   "execution_count": 27,
   "metadata": {
    "colab": {
     "base_uri": "https://localhost:8080/",
     "height": 993
    },
    "id": "8yAC5rFkwPwK",
    "outputId": "e420f607-6fab-47c5-a371-6930b5d5df48"
   },
   "outputs": [
    {
     "data": {
      "text/html": [
       "<pre style=\"white-space:pre;overflow-x:auto;line-height:normal;font-family:Menlo,'DejaVu Sans Mono',consolas,'Courier New',monospace\"><span style=\"font-weight: bold\">Model: \"CNN_Trial-4\"</span>\n",
       "</pre>\n"
      ],
      "text/plain": [
       "\u001b[1mModel: \"CNN_Trial-4\"\u001b[0m\n"
      ]
     },
     "metadata": {},
     "output_type": "display_data"
    },
    {
     "data": {
      "text/html": [
       "<pre style=\"white-space:pre;overflow-x:auto;line-height:normal;font-family:Menlo,'DejaVu Sans Mono',consolas,'Courier New',monospace\">┏━━━━━━━━━━━━━━━━━━━━━━━━━━━━━━━━━┳━━━━━━━━━━━━━━━━━━━━━━━━┳━━━━━━━━━━━━━━━┓\n",
       "┃<span style=\"font-weight: bold\"> Layer (type)                    </span>┃<span style=\"font-weight: bold\"> Output Shape           </span>┃<span style=\"font-weight: bold\">       Param # </span>┃\n",
       "┡━━━━━━━━━━━━━━━━━━━━━━━━━━━━━━━━━╇━━━━━━━━━━━━━━━━━━━━━━━━╇━━━━━━━━━━━━━━━┩\n",
       "│ embedding_Layer (<span style=\"color: #0087ff; text-decoration-color: #0087ff\">Embedding</span>)     │ ?                      │     <span style=\"color: #00af00; text-decoration-color: #00af00\">9,600,000</span> │\n",
       "├─────────────────────────────────┼────────────────────────┼───────────────┤\n",
       "│ conv1d_5 (<span style=\"color: #0087ff; text-decoration-color: #0087ff\">Conv1D</span>)               │ ?                      │   <span style=\"color: #00af00; text-decoration-color: #00af00\">0</span> (unbuilt) │\n",
       "├─────────────────────────────────┼────────────────────────┼───────────────┤\n",
       "│ max_pooling1d_5 (<span style=\"color: #0087ff; text-decoration-color: #0087ff\">MaxPooling1D</span>)  │ ?                      │             <span style=\"color: #00af00; text-decoration-color: #00af00\">0</span> │\n",
       "├─────────────────────────────────┼────────────────────────┼───────────────┤\n",
       "│ dropout_9 (<span style=\"color: #0087ff; text-decoration-color: #0087ff\">Dropout</span>)             │ ?                      │             <span style=\"color: #00af00; text-decoration-color: #00af00\">0</span> │\n",
       "├─────────────────────────────────┼────────────────────────┼───────────────┤\n",
       "│ flatten_3 (<span style=\"color: #0087ff; text-decoration-color: #0087ff\">Flatten</span>)             │ ?                      │   <span style=\"color: #00af00; text-decoration-color: #00af00\">0</span> (unbuilt) │\n",
       "├─────────────────────────────────┼────────────────────────┼───────────────┤\n",
       "│ dense_6 (<span style=\"color: #0087ff; text-decoration-color: #0087ff\">Dense</span>)                 │ ?                      │   <span style=\"color: #00af00; text-decoration-color: #00af00\">0</span> (unbuilt) │\n",
       "├─────────────────────────────────┼────────────────────────┼───────────────┤\n",
       "│ dropout_10 (<span style=\"color: #0087ff; text-decoration-color: #0087ff\">Dropout</span>)            │ ?                      │             <span style=\"color: #00af00; text-decoration-color: #00af00\">0</span> │\n",
       "├─────────────────────────────────┼────────────────────────┼───────────────┤\n",
       "│ dense_7 (<span style=\"color: #0087ff; text-decoration-color: #0087ff\">Dense</span>)                 │ ?                      │   <span style=\"color: #00af00; text-decoration-color: #00af00\">0</span> (unbuilt) │\n",
       "├─────────────────────────────────┼────────────────────────┼───────────────┤\n",
       "│ dropout_11 (<span style=\"color: #0087ff; text-decoration-color: #0087ff\">Dropout</span>)            │ ?                      │             <span style=\"color: #00af00; text-decoration-color: #00af00\">0</span> │\n",
       "├─────────────────────────────────┼────────────────────────┼───────────────┤\n",
       "│ Output_Layer (<span style=\"color: #0087ff; text-decoration-color: #0087ff\">Dense</span>)            │ ?                      │   <span style=\"color: #00af00; text-decoration-color: #00af00\">0</span> (unbuilt) │\n",
       "└─────────────────────────────────┴────────────────────────┴───────────────┘\n",
       "</pre>\n"
      ],
      "text/plain": [
       "┏━━━━━━━━━━━━━━━━━━━━━━━━━━━━━━━━━┳━━━━━━━━━━━━━━━━━━━━━━━━┳━━━━━━━━━━━━━━━┓\n",
       "┃\u001b[1m \u001b[0m\u001b[1mLayer (type)                   \u001b[0m\u001b[1m \u001b[0m┃\u001b[1m \u001b[0m\u001b[1mOutput Shape          \u001b[0m\u001b[1m \u001b[0m┃\u001b[1m \u001b[0m\u001b[1m      Param #\u001b[0m\u001b[1m \u001b[0m┃\n",
       "┡━━━━━━━━━━━━━━━━━━━━━━━━━━━━━━━━━╇━━━━━━━━━━━━━━━━━━━━━━━━╇━━━━━━━━━━━━━━━┩\n",
       "│ embedding_Layer (\u001b[38;5;33mEmbedding\u001b[0m)     │ ?                      │     \u001b[38;5;34m9,600,000\u001b[0m │\n",
       "├─────────────────────────────────┼────────────────────────┼───────────────┤\n",
       "│ conv1d_5 (\u001b[38;5;33mConv1D\u001b[0m)               │ ?                      │   \u001b[38;5;34m0\u001b[0m (unbuilt) │\n",
       "├─────────────────────────────────┼────────────────────────┼───────────────┤\n",
       "│ max_pooling1d_5 (\u001b[38;5;33mMaxPooling1D\u001b[0m)  │ ?                      │             \u001b[38;5;34m0\u001b[0m │\n",
       "├─────────────────────────────────┼────────────────────────┼───────────────┤\n",
       "│ dropout_9 (\u001b[38;5;33mDropout\u001b[0m)             │ ?                      │             \u001b[38;5;34m0\u001b[0m │\n",
       "├─────────────────────────────────┼────────────────────────┼───────────────┤\n",
       "│ flatten_3 (\u001b[38;5;33mFlatten\u001b[0m)             │ ?                      │   \u001b[38;5;34m0\u001b[0m (unbuilt) │\n",
       "├─────────────────────────────────┼────────────────────────┼───────────────┤\n",
       "│ dense_6 (\u001b[38;5;33mDense\u001b[0m)                 │ ?                      │   \u001b[38;5;34m0\u001b[0m (unbuilt) │\n",
       "├─────────────────────────────────┼────────────────────────┼───────────────┤\n",
       "│ dropout_10 (\u001b[38;5;33mDropout\u001b[0m)            │ ?                      │             \u001b[38;5;34m0\u001b[0m │\n",
       "├─────────────────────────────────┼────────────────────────┼───────────────┤\n",
       "│ dense_7 (\u001b[38;5;33mDense\u001b[0m)                 │ ?                      │   \u001b[38;5;34m0\u001b[0m (unbuilt) │\n",
       "├─────────────────────────────────┼────────────────────────┼───────────────┤\n",
       "│ dropout_11 (\u001b[38;5;33mDropout\u001b[0m)            │ ?                      │             \u001b[38;5;34m0\u001b[0m │\n",
       "├─────────────────────────────────┼────────────────────────┼───────────────┤\n",
       "│ Output_Layer (\u001b[38;5;33mDense\u001b[0m)            │ ?                      │   \u001b[38;5;34m0\u001b[0m (unbuilt) │\n",
       "└─────────────────────────────────┴────────────────────────┴───────────────┘\n"
      ]
     },
     "metadata": {},
     "output_type": "display_data"
    },
    {
     "data": {
      "text/html": [
       "<pre style=\"white-space:pre;overflow-x:auto;line-height:normal;font-family:Menlo,'DejaVu Sans Mono',consolas,'Courier New',monospace\"><span style=\"font-weight: bold\"> Total params: </span><span style=\"color: #00af00; text-decoration-color: #00af00\">9,600,000</span> (36.62 MB)\n",
       "</pre>\n"
      ],
      "text/plain": [
       "\u001b[1m Total params: \u001b[0m\u001b[38;5;34m9,600,000\u001b[0m (36.62 MB)\n"
      ]
     },
     "metadata": {},
     "output_type": "display_data"
    },
    {
     "data": {
      "text/html": [
       "<pre style=\"white-space:pre;overflow-x:auto;line-height:normal;font-family:Menlo,'DejaVu Sans Mono',consolas,'Courier New',monospace\"><span style=\"font-weight: bold\"> Trainable params: </span><span style=\"color: #00af00; text-decoration-color: #00af00\">9,600,000</span> (36.62 MB)\n",
       "</pre>\n"
      ],
      "text/plain": [
       "\u001b[1m Trainable params: \u001b[0m\u001b[38;5;34m9,600,000\u001b[0m (36.62 MB)\n"
      ]
     },
     "metadata": {},
     "output_type": "display_data"
    },
    {
     "data": {
      "text/html": [
       "<pre style=\"white-space:pre;overflow-x:auto;line-height:normal;font-family:Menlo,'DejaVu Sans Mono',consolas,'Courier New',monospace\"><span style=\"font-weight: bold\"> Non-trainable params: </span><span style=\"color: #00af00; text-decoration-color: #00af00\">0</span> (0.00 B)\n",
       "</pre>\n"
      ],
      "text/plain": [
       "\u001b[1m Non-trainable params: \u001b[0m\u001b[38;5;34m0\u001b[0m (0.00 B)\n"
      ]
     },
     "metadata": {},
     "output_type": "display_data"
    },
    {
     "name": "stdout",
     "output_type": "stream",
     "text": [
      "Epoch 1/10\n",
      "\u001b[1m300/300\u001b[0m \u001b[32m━━━━━━━━━━━━━━━━━━━━\u001b[0m\u001b[37m\u001b[0m \u001b[1m175s\u001b[0m 548ms/step - accuracy: 0.5416 - f1_m: 0.3707 - loss: 2.4348 - precision_m: 0.6182 - recall_m: 0.2961 - val_accuracy: 0.8616 - val_f1_m: 0.8574 - val_loss: 0.6180 - val_precision_m: 0.8853 - val_recall_m: 0.8314\n",
      "Epoch 2/10\n",
      "\u001b[1m300/300\u001b[0m \u001b[32m━━━━━━━━━━━━━━━━━━━━\u001b[0m\u001b[37m\u001b[0m \u001b[1m206s\u001b[0m 562ms/step - accuracy: 0.8772 - f1_m: 0.8734 - loss: 0.5743 - precision_m: 0.8942 - recall_m: 0.8536 - val_accuracy: 0.9041 - val_f1_m: 0.9034 - val_loss: 0.4494 - val_precision_m: 0.9167 - val_recall_m: 0.8905\n",
      "Epoch 3/10\n",
      "\u001b[1m300/300\u001b[0m \u001b[32m━━━━━━━━━━━━━━━━━━━━\u001b[0m\u001b[37m\u001b[0m \u001b[1m164s\u001b[0m 546ms/step - accuracy: 0.9187 - f1_m: 0.9169 - loss: 0.4252 - precision_m: 0.9281 - recall_m: 0.9059 - val_accuracy: 0.9102 - val_f1_m: 0.9100 - val_loss: 0.4159 - val_precision_m: 0.9198 - val_recall_m: 0.9005\n",
      "Epoch 4/10\n",
      "\u001b[1m300/300\u001b[0m \u001b[32m━━━━━━━━━━━━━━━━━━━━\u001b[0m\u001b[37m\u001b[0m \u001b[1m156s\u001b[0m 520ms/step - accuracy: 0.9350 - f1_m: 0.9339 - loss: 0.3686 - precision_m: 0.9422 - recall_m: 0.9257 - val_accuracy: 0.9188 - val_f1_m: 0.9186 - val_loss: 0.3927 - val_precision_m: 0.9260 - val_recall_m: 0.9114\n",
      "Epoch 5/10\n",
      "\u001b[1m300/300\u001b[0m \u001b[32m━━━━━━━━━━━━━━━━━━━━\u001b[0m\u001b[37m\u001b[0m \u001b[1m154s\u001b[0m 515ms/step - accuracy: 0.9458 - f1_m: 0.9452 - loss: 0.3271 - precision_m: 0.9521 - recall_m: 0.9385 - val_accuracy: 0.9152 - val_f1_m: 0.9146 - val_loss: 0.4080 - val_precision_m: 0.9213 - val_recall_m: 0.9079\n",
      "Epoch 6/10\n",
      "\u001b[1m300/300\u001b[0m \u001b[32m━━━━━━━━━━━━━━━━━━━━\u001b[0m\u001b[37m\u001b[0m \u001b[1m157s\u001b[0m 523ms/step - accuracy: 0.9486 - f1_m: 0.9480 - loss: 0.3116 - precision_m: 0.9539 - recall_m: 0.9423 - val_accuracy: 0.9187 - val_f1_m: 0.9180 - val_loss: 0.3910 - val_precision_m: 0.9242 - val_recall_m: 0.9119\n",
      "Epoch 7/10\n",
      "\u001b[1m300/300\u001b[0m \u001b[32m━━━━━━━━━━━━━━━━━━━━\u001b[0m\u001b[37m\u001b[0m \u001b[1m155s\u001b[0m 516ms/step - accuracy: 0.9556 - f1_m: 0.9553 - loss: 0.2875 - precision_m: 0.9610 - recall_m: 0.9497 - val_accuracy: 0.9165 - val_f1_m: 0.9160 - val_loss: 0.3900 - val_precision_m: 0.9230 - val_recall_m: 0.9091\n",
      "Epoch 8/10\n",
      "\u001b[1m300/300\u001b[0m \u001b[32m━━━━━━━━━━━━━━━━━━━━\u001b[0m\u001b[37m\u001b[0m \u001b[1m155s\u001b[0m 518ms/step - accuracy: 0.9580 - f1_m: 0.9582 - loss: 0.2723 - precision_m: 0.9634 - recall_m: 0.9530 - val_accuracy: 0.9189 - val_f1_m: 0.9180 - val_loss: 0.3864 - val_precision_m: 0.9266 - val_recall_m: 0.9095\n",
      "Epoch 9/10\n",
      "\u001b[1m300/300\u001b[0m \u001b[32m━━━━━━━━━━━━━━━━━━━━\u001b[0m\u001b[37m\u001b[0m \u001b[1m202s\u001b[0m 518ms/step - accuracy: 0.9614 - f1_m: 0.9613 - loss: 0.2613 - precision_m: 0.9666 - recall_m: 0.9562 - val_accuracy: 0.9187 - val_f1_m: 0.9178 - val_loss: 0.3990 - val_precision_m: 0.9250 - val_recall_m: 0.9107\n",
      "Epoch 10/10\n",
      "\u001b[1m300/300\u001b[0m \u001b[32m━━━━━━━━━━━━━━━━━━━━\u001b[0m\u001b[37m\u001b[0m \u001b[1m155s\u001b[0m 516ms/step - accuracy: 0.9630 - f1_m: 0.9633 - loss: 0.2500 - precision_m: 0.9689 - recall_m: 0.9578 - val_accuracy: 0.9173 - val_f1_m: 0.9170 - val_loss: 0.4009 - val_precision_m: 0.9238 - val_recall_m: 0.9103\n",
      "You must install graphviz (see instructions at https://graphviz.gitlab.io/download/) for `plot_model` to work.\n"
     ]
    }
   ],
   "source": [
    "# Trial-4 (embedding_trainable=True)\n",
    "\n",
    "cnn_model_trial4 = buat_cnn(embedding_trainable=True, Conv1D_1=True, Conv1D_2=False, Conv1D_3=False, _learning_rate=0.001, model_name='CNN_Trial-4')\n",
    "cnn_model_trial4_history = cnn_model_trial4.fit(x_train, y_train,epochs=10, verbose=1,batch_size=256,validation_split=0.2)\n",
    "\n",
    "'''Plotting Model Architecture For Trial-4'''\n",
    "tf.keras.utils.plot_model(cnn_model_trial4, show_shapes=True)\n",
    "#plt.savefig('/content/drive/MyDrive/Python/CNN Model (Trial 4).png')\n",
    "\n",
    "cnn_model_trials_dict['Embedding layer Trainable'][3]='Yes'"
   ]
  },
  {
   "cell_type": "code",
   "execution_count": 28,
   "metadata": {
    "colab": {
     "base_uri": "https://localhost:8080/",
     "height": 1000
    },
    "id": "7veYDZqDwQqU",
    "outputId": "3abf23bf-0e33-4c38-e926-eeb84ae000fb"
   },
   "outputs": [
    {
     "data": {
      "text/html": [
       "<pre style=\"white-space:pre;overflow-x:auto;line-height:normal;font-family:Menlo,'DejaVu Sans Mono',consolas,'Courier New',monospace\"><span style=\"font-weight: bold\">Model: \"CNN_Trial-5\"</span>\n",
       "</pre>\n"
      ],
      "text/plain": [
       "\u001b[1mModel: \"CNN_Trial-5\"\u001b[0m\n"
      ]
     },
     "metadata": {},
     "output_type": "display_data"
    },
    {
     "data": {
      "text/html": [
       "<pre style=\"white-space:pre;overflow-x:auto;line-height:normal;font-family:Menlo,'DejaVu Sans Mono',consolas,'Courier New',monospace\">┏━━━━━━━━━━━━━━━━━━━━━━━━━━━━━━━━━┳━━━━━━━━━━━━━━━━━━━━━━━━┳━━━━━━━━━━━━━━━┓\n",
       "┃<span style=\"font-weight: bold\"> Layer (type)                    </span>┃<span style=\"font-weight: bold\"> Output Shape           </span>┃<span style=\"font-weight: bold\">       Param # </span>┃\n",
       "┡━━━━━━━━━━━━━━━━━━━━━━━━━━━━━━━━━╇━━━━━━━━━━━━━━━━━━━━━━━━╇━━━━━━━━━━━━━━━┩\n",
       "│ embedding_Layer (<span style=\"color: #0087ff; text-decoration-color: #0087ff\">Embedding</span>)     │ ?                      │     <span style=\"color: #00af00; text-decoration-color: #00af00\">9,600,000</span> │\n",
       "├─────────────────────────────────┼────────────────────────┼───────────────┤\n",
       "│ conv1d_6 (<span style=\"color: #0087ff; text-decoration-color: #0087ff\">Conv1D</span>)               │ ?                      │   <span style=\"color: #00af00; text-decoration-color: #00af00\">0</span> (unbuilt) │\n",
       "├─────────────────────────────────┼────────────────────────┼───────────────┤\n",
       "│ max_pooling1d_6 (<span style=\"color: #0087ff; text-decoration-color: #0087ff\">MaxPooling1D</span>)  │ ?                      │             <span style=\"color: #00af00; text-decoration-color: #00af00\">0</span> │\n",
       "├─────────────────────────────────┼────────────────────────┼───────────────┤\n",
       "│ conv1d_7 (<span style=\"color: #0087ff; text-decoration-color: #0087ff\">Conv1D</span>)               │ ?                      │   <span style=\"color: #00af00; text-decoration-color: #00af00\">0</span> (unbuilt) │\n",
       "├─────────────────────────────────┼────────────────────────┼───────────────┤\n",
       "│ max_pooling1d_7 (<span style=\"color: #0087ff; text-decoration-color: #0087ff\">MaxPooling1D</span>)  │ ?                      │             <span style=\"color: #00af00; text-decoration-color: #00af00\">0</span> │\n",
       "├─────────────────────────────────┼────────────────────────┼───────────────┤\n",
       "│ conv1d_8 (<span style=\"color: #0087ff; text-decoration-color: #0087ff\">Conv1D</span>)               │ ?                      │   <span style=\"color: #00af00; text-decoration-color: #00af00\">0</span> (unbuilt) │\n",
       "├─────────────────────────────────┼────────────────────────┼───────────────┤\n",
       "│ max_pooling1d_8 (<span style=\"color: #0087ff; text-decoration-color: #0087ff\">MaxPooling1D</span>)  │ ?                      │             <span style=\"color: #00af00; text-decoration-color: #00af00\">0</span> │\n",
       "├─────────────────────────────────┼────────────────────────┼───────────────┤\n",
       "│ dropout_12 (<span style=\"color: #0087ff; text-decoration-color: #0087ff\">Dropout</span>)            │ ?                      │             <span style=\"color: #00af00; text-decoration-color: #00af00\">0</span> │\n",
       "├─────────────────────────────────┼────────────────────────┼───────────────┤\n",
       "│ flatten_4 (<span style=\"color: #0087ff; text-decoration-color: #0087ff\">Flatten</span>)             │ ?                      │   <span style=\"color: #00af00; text-decoration-color: #00af00\">0</span> (unbuilt) │\n",
       "├─────────────────────────────────┼────────────────────────┼───────────────┤\n",
       "│ dense_8 (<span style=\"color: #0087ff; text-decoration-color: #0087ff\">Dense</span>)                 │ ?                      │   <span style=\"color: #00af00; text-decoration-color: #00af00\">0</span> (unbuilt) │\n",
       "├─────────────────────────────────┼────────────────────────┼───────────────┤\n",
       "│ dropout_13 (<span style=\"color: #0087ff; text-decoration-color: #0087ff\">Dropout</span>)            │ ?                      │             <span style=\"color: #00af00; text-decoration-color: #00af00\">0</span> │\n",
       "├─────────────────────────────────┼────────────────────────┼───────────────┤\n",
       "│ dense_9 (<span style=\"color: #0087ff; text-decoration-color: #0087ff\">Dense</span>)                 │ ?                      │   <span style=\"color: #00af00; text-decoration-color: #00af00\">0</span> (unbuilt) │\n",
       "├─────────────────────────────────┼────────────────────────┼───────────────┤\n",
       "│ dropout_14 (<span style=\"color: #0087ff; text-decoration-color: #0087ff\">Dropout</span>)            │ ?                      │             <span style=\"color: #00af00; text-decoration-color: #00af00\">0</span> │\n",
       "├─────────────────────────────────┼────────────────────────┼───────────────┤\n",
       "│ Output_Layer (<span style=\"color: #0087ff; text-decoration-color: #0087ff\">Dense</span>)            │ ?                      │   <span style=\"color: #00af00; text-decoration-color: #00af00\">0</span> (unbuilt) │\n",
       "└─────────────────────────────────┴────────────────────────┴───────────────┘\n",
       "</pre>\n"
      ],
      "text/plain": [
       "┏━━━━━━━━━━━━━━━━━━━━━━━━━━━━━━━━━┳━━━━━━━━━━━━━━━━━━━━━━━━┳━━━━━━━━━━━━━━━┓\n",
       "┃\u001b[1m \u001b[0m\u001b[1mLayer (type)                   \u001b[0m\u001b[1m \u001b[0m┃\u001b[1m \u001b[0m\u001b[1mOutput Shape          \u001b[0m\u001b[1m \u001b[0m┃\u001b[1m \u001b[0m\u001b[1m      Param #\u001b[0m\u001b[1m \u001b[0m┃\n",
       "┡━━━━━━━━━━━━━━━━━━━━━━━━━━━━━━━━━╇━━━━━━━━━━━━━━━━━━━━━━━━╇━━━━━━━━━━━━━━━┩\n",
       "│ embedding_Layer (\u001b[38;5;33mEmbedding\u001b[0m)     │ ?                      │     \u001b[38;5;34m9,600,000\u001b[0m │\n",
       "├─────────────────────────────────┼────────────────────────┼───────────────┤\n",
       "│ conv1d_6 (\u001b[38;5;33mConv1D\u001b[0m)               │ ?                      │   \u001b[38;5;34m0\u001b[0m (unbuilt) │\n",
       "├─────────────────────────────────┼────────────────────────┼───────────────┤\n",
       "│ max_pooling1d_6 (\u001b[38;5;33mMaxPooling1D\u001b[0m)  │ ?                      │             \u001b[38;5;34m0\u001b[0m │\n",
       "├─────────────────────────────────┼────────────────────────┼───────────────┤\n",
       "│ conv1d_7 (\u001b[38;5;33mConv1D\u001b[0m)               │ ?                      │   \u001b[38;5;34m0\u001b[0m (unbuilt) │\n",
       "├─────────────────────────────────┼────────────────────────┼───────────────┤\n",
       "│ max_pooling1d_7 (\u001b[38;5;33mMaxPooling1D\u001b[0m)  │ ?                      │             \u001b[38;5;34m0\u001b[0m │\n",
       "├─────────────────────────────────┼────────────────────────┼───────────────┤\n",
       "│ conv1d_8 (\u001b[38;5;33mConv1D\u001b[0m)               │ ?                      │   \u001b[38;5;34m0\u001b[0m (unbuilt) │\n",
       "├─────────────────────────────────┼────────────────────────┼───────────────┤\n",
       "│ max_pooling1d_8 (\u001b[38;5;33mMaxPooling1D\u001b[0m)  │ ?                      │             \u001b[38;5;34m0\u001b[0m │\n",
       "├─────────────────────────────────┼────────────────────────┼───────────────┤\n",
       "│ dropout_12 (\u001b[38;5;33mDropout\u001b[0m)            │ ?                      │             \u001b[38;5;34m0\u001b[0m │\n",
       "├─────────────────────────────────┼────────────────────────┼───────────────┤\n",
       "│ flatten_4 (\u001b[38;5;33mFlatten\u001b[0m)             │ ?                      │   \u001b[38;5;34m0\u001b[0m (unbuilt) │\n",
       "├─────────────────────────────────┼────────────────────────┼───────────────┤\n",
       "│ dense_8 (\u001b[38;5;33mDense\u001b[0m)                 │ ?                      │   \u001b[38;5;34m0\u001b[0m (unbuilt) │\n",
       "├─────────────────────────────────┼────────────────────────┼───────────────┤\n",
       "│ dropout_13 (\u001b[38;5;33mDropout\u001b[0m)            │ ?                      │             \u001b[38;5;34m0\u001b[0m │\n",
       "├─────────────────────────────────┼────────────────────────┼───────────────┤\n",
       "│ dense_9 (\u001b[38;5;33mDense\u001b[0m)                 │ ?                      │   \u001b[38;5;34m0\u001b[0m (unbuilt) │\n",
       "├─────────────────────────────────┼────────────────────────┼───────────────┤\n",
       "│ dropout_14 (\u001b[38;5;33mDropout\u001b[0m)            │ ?                      │             \u001b[38;5;34m0\u001b[0m │\n",
       "├─────────────────────────────────┼────────────────────────┼───────────────┤\n",
       "│ Output_Layer (\u001b[38;5;33mDense\u001b[0m)            │ ?                      │   \u001b[38;5;34m0\u001b[0m (unbuilt) │\n",
       "└─────────────────────────────────┴────────────────────────┴───────────────┘\n"
      ]
     },
     "metadata": {},
     "output_type": "display_data"
    },
    {
     "data": {
      "text/html": [
       "<pre style=\"white-space:pre;overflow-x:auto;line-height:normal;font-family:Menlo,'DejaVu Sans Mono',consolas,'Courier New',monospace\"><span style=\"font-weight: bold\"> Total params: </span><span style=\"color: #00af00; text-decoration-color: #00af00\">9,600,000</span> (36.62 MB)\n",
       "</pre>\n"
      ],
      "text/plain": [
       "\u001b[1m Total params: \u001b[0m\u001b[38;5;34m9,600,000\u001b[0m (36.62 MB)\n"
      ]
     },
     "metadata": {},
     "output_type": "display_data"
    },
    {
     "data": {
      "text/html": [
       "<pre style=\"white-space:pre;overflow-x:auto;line-height:normal;font-family:Menlo,'DejaVu Sans Mono',consolas,'Courier New',monospace\"><span style=\"font-weight: bold\"> Trainable params: </span><span style=\"color: #00af00; text-decoration-color: #00af00\">0</span> (0.00 B)\n",
       "</pre>\n"
      ],
      "text/plain": [
       "\u001b[1m Trainable params: \u001b[0m\u001b[38;5;34m0\u001b[0m (0.00 B)\n"
      ]
     },
     "metadata": {},
     "output_type": "display_data"
    },
    {
     "data": {
      "text/html": [
       "<pre style=\"white-space:pre;overflow-x:auto;line-height:normal;font-family:Menlo,'DejaVu Sans Mono',consolas,'Courier New',monospace\"><span style=\"font-weight: bold\"> Non-trainable params: </span><span style=\"color: #00af00; text-decoration-color: #00af00\">9,600,000</span> (36.62 MB)\n",
       "</pre>\n"
      ],
      "text/plain": [
       "\u001b[1m Non-trainable params: \u001b[0m\u001b[38;5;34m9,600,000\u001b[0m (36.62 MB)\n"
      ]
     },
     "metadata": {},
     "output_type": "display_data"
    },
    {
     "name": "stdout",
     "output_type": "stream",
     "text": [
      "Epoch 1/10\n",
      "\u001b[1m300/300\u001b[0m \u001b[32m━━━━━━━━━━━━━━━━━━━━\u001b[0m\u001b[37m\u001b[0m \u001b[1m141s\u001b[0m 449ms/step - accuracy: 0.4211 - f1_m: 0.0712 - loss: 2.4551 - precision_m: 0.4407 - recall_m: 0.0415 - val_accuracy: 0.6023 - val_f1_m: 0.5159 - val_loss: 1.9898 - val_precision_m: 0.6802 - val_recall_m: 0.4160\n",
      "Epoch 2/10\n",
      "\u001b[1m300/300\u001b[0m \u001b[32m━━━━━━━━━━━━━━━━━━━━\u001b[0m\u001b[37m\u001b[0m \u001b[1m134s\u001b[0m 447ms/step - accuracy: 0.6347 - f1_m: 0.5308 - loss: 1.8872 - precision_m: 0.7032 - recall_m: 0.4297 - val_accuracy: 0.7199 - val_f1_m: 0.6950 - val_loss: 1.5180 - val_precision_m: 0.7630 - val_recall_m: 0.6385\n",
      "Epoch 3/10\n",
      "\u001b[1m300/300\u001b[0m \u001b[32m━━━━━━━━━━━━━━━━━━━━\u001b[0m\u001b[37m\u001b[0m \u001b[1m127s\u001b[0m 424ms/step - accuracy: 0.7276 - f1_m: 0.6929 - loss: 1.4770 - precision_m: 0.7793 - recall_m: 0.6243 - val_accuracy: 0.7506 - val_f1_m: 0.7448 - val_loss: 1.2429 - val_precision_m: 0.7809 - val_recall_m: 0.7120\n",
      "Epoch 4/10\n",
      "\u001b[1m300/300\u001b[0m \u001b[32m━━━━━━━━━━━━━━━━━━━━\u001b[0m\u001b[37m\u001b[0m \u001b[1m125s\u001b[0m 416ms/step - accuracy: 0.7750 - f1_m: 0.7580 - loss: 1.1898 - precision_m: 0.8170 - recall_m: 0.7072 - val_accuracy: 0.7778 - val_f1_m: 0.7734 - val_loss: 1.0421 - val_precision_m: 0.8017 - val_recall_m: 0.7472\n",
      "Epoch 5/10\n",
      "\u001b[1m300/300\u001b[0m \u001b[32m━━━━━━━━━━━━━━━━━━━━\u001b[0m\u001b[37m\u001b[0m \u001b[1m126s\u001b[0m 421ms/step - accuracy: 0.8218 - f1_m: 0.8131 - loss: 0.9473 - precision_m: 0.8511 - recall_m: 0.7786 - val_accuracy: 0.7879 - val_f1_m: 0.7835 - val_loss: 0.9052 - val_precision_m: 0.8063 - val_recall_m: 0.7621\n",
      "Epoch 6/10\n",
      "\u001b[1m300/300\u001b[0m \u001b[32m━━━━━━━━━━━━━━━━━━━━\u001b[0m\u001b[37m\u001b[0m \u001b[1m123s\u001b[0m 409ms/step - accuracy: 0.8621 - f1_m: 0.8573 - loss: 0.7531 - precision_m: 0.8835 - recall_m: 0.8327 - val_accuracy: 0.7959 - val_f1_m: 0.7934 - val_loss: 0.8226 - val_precision_m: 0.8104 - val_recall_m: 0.7771\n",
      "Epoch 7/10\n",
      "\u001b[1m300/300\u001b[0m \u001b[32m━━━━━━━━━━━━━━━━━━━━\u001b[0m\u001b[37m\u001b[0m \u001b[1m141s\u001b[0m 404ms/step - accuracy: 0.8980 - f1_m: 0.8971 - loss: 0.5851 - precision_m: 0.9135 - recall_m: 0.8813 - val_accuracy: 0.7988 - val_f1_m: 0.7977 - val_loss: 0.7686 - val_precision_m: 0.8132 - val_recall_m: 0.7829\n",
      "Epoch 8/10\n",
      "\u001b[1m300/300\u001b[0m \u001b[32m━━━━━━━━━━━━━━━━━━━━\u001b[0m\u001b[37m\u001b[0m \u001b[1m123s\u001b[0m 408ms/step - accuracy: 0.9241 - f1_m: 0.9221 - loss: 0.4768 - precision_m: 0.9347 - recall_m: 0.9099 - val_accuracy: 0.8003 - val_f1_m: 0.7996 - val_loss: 0.7633 - val_precision_m: 0.8111 - val_recall_m: 0.7884\n",
      "Epoch 9/10\n",
      "\u001b[1m300/300\u001b[0m \u001b[32m━━━━━━━━━━━━━━━━━━━━\u001b[0m\u001b[37m\u001b[0m \u001b[1m122s\u001b[0m 407ms/step - accuracy: 0.9441 - f1_m: 0.9440 - loss: 0.3870 - precision_m: 0.9515 - recall_m: 0.9367 - val_accuracy: 0.7981 - val_f1_m: 0.7983 - val_loss: 0.7818 - val_precision_m: 0.8079 - val_recall_m: 0.7889\n",
      "Epoch 10/10\n",
      "\u001b[1m300/300\u001b[0m \u001b[32m━━━━━━━━━━━━━━━━━━━━\u001b[0m\u001b[37m\u001b[0m \u001b[1m142s\u001b[0m 408ms/step - accuracy: 0.9583 - f1_m: 0.9580 - loss: 0.3197 - precision_m: 0.9639 - recall_m: 0.9523 - val_accuracy: 0.8011 - val_f1_m: 0.8011 - val_loss: 0.7791 - val_precision_m: 0.8099 - val_recall_m: 0.7924\n",
      "You must install graphviz (see instructions at https://graphviz.gitlab.io/download/) for `plot_model` to work.\n"
     ]
    }
   ],
   "source": [
    "# Trial-5 (embedding_trainable=False)\n",
    "\n",
    "cnn_model_trial5 = buat_cnn(embedding_trainable=False, Conv1D_1=True, Conv1D_2=True, Conv1D_3=True, _learning_rate=0.0001, model_name='CNN_Trial-5')\n",
    "cnn_model_trial5_history = cnn_model_trial5.fit(x_train, y_train,epochs=10, verbose=1,batch_size=256,validation_split=0.2)\n",
    "\n",
    "'''Plotting Model Architecture For Trial-5'''\n",
    "tf.keras.utils.plot_model(cnn_model_trial5, show_shapes=True)\n",
    "#plt.savefig('/content/drive/MyDrive/Python/CNN Model (Trial 5).png')\n",
    "\n",
    "cnn_model_trials_dict['Embedding layer Trainable'][4]='No'"
   ]
  },
  {
   "cell_type": "markdown",
   "metadata": {
    "id": "r6eopR9Rwwu5"
   },
   "source": [
    "### **Testing Model CNN**"
   ]
  },
  {
   "cell_type": "code",
   "execution_count": 29,
   "metadata": {
    "colab": {
     "base_uri": "https://localhost:8080/"
    },
    "id": "Z1mpgAmOw1ZB",
    "outputId": "8700a92b-a0fe-4936-f764-f268caf20e03"
   },
   "outputs": [
    {
     "name": "stdout",
     "output_type": "stream",
     "text": [
      "\u001b[1m3000/3000\u001b[0m \u001b[32m━━━━━━━━━━━━━━━━━━━━\u001b[0m\u001b[37m\u001b[0m \u001b[1m61s\u001b[0m 20ms/step - accuracy: 0.9238 - f1_m: 0.9230 - loss: 0.4254 - precision_m: 0.9339 - recall_m: 0.9127\n",
      "\u001b[1m750/750\u001b[0m \u001b[32m━━━━━━━━━━━━━━━━━━━━\u001b[0m\u001b[37m\u001b[0m \u001b[1m15s\u001b[0m 20ms/step - accuracy: 0.8732 - f1_m: 0.8726 - loss: 0.5249 - precision_m: 0.8877 - recall_m: 0.8583\n",
      "\n",
      "Trial 1\n",
      "Training Accuaracy (Trial 1): 91.5%\n",
      "Testing Accuaracy (Trial 1): 87.4%\n"
     ]
    }
   ],
   "source": [
    "# Trial-1\n",
    "training_score = cnn_model_trial1.evaluate(x_train, y_train)\n",
    "testing_score = cnn_model_trial1.evaluate(x_test, y_test)\n",
    "\n",
    "print(f'\\nTrial 1')\n",
    "print(f'Training Accuaracy (Trial 1): {round(training_score[1]*100,1)}%')\n",
    "print(f'Testing Accuaracy (Trial 1): {round(testing_score[1]*100,1)}%')\n",
    "\n",
    "'''   Save the data of trial 1 in cnn model trials dictionary   '''\n",
    "cnn_model_trials_dict['Training Accuaracy'][0]=round(training_score[1]*100,1)\n",
    "cnn_model_trials_dict['Testing Accuaracy'][0]=round(testing_score[1]*100,1)"
   ]
  },
  {
   "cell_type": "code",
   "execution_count": 30,
   "metadata": {
    "colab": {
     "base_uri": "https://localhost:8080/",
     "height": 220
    },
    "id": "-fss-MfHw3yf",
    "outputId": "63f5f098-c866-4933-ca4a-658761002893"
   },
   "outputs": [
    {
     "name": "stdout",
     "output_type": "stream",
     "text": [
      "\u001b[1m3000/3000\u001b[0m \u001b[32m━━━━━━━━━━━━━━━━━━━━\u001b[0m\u001b[37m\u001b[0m \u001b[1m61s\u001b[0m 20ms/step - accuracy: 0.8100 - f1_m: 0.8032 - loss: 0.9090 - precision_m: 0.8396 - recall_m: 0.7707\n",
      "\u001b[1m750/750\u001b[0m \u001b[32m━━━━━━━━━━━━━━━━━━━━\u001b[0m\u001b[37m\u001b[0m \u001b[1m15s\u001b[0m 20ms/step - accuracy: 0.7775 - f1_m: 0.7679 - loss: 0.9756 - precision_m: 0.8053 - recall_m: 0.7348\n",
      "\n",
      "Trial 2\n",
      "Training Accuaracy (Trial 2): 80.3%\n",
      "Testing Accuaracy (Trial 2): 78.0%\n"
     ]
    }
   ],
   "source": [
    "# Trial-2\n",
    "training_score = cnn_model_trial2.evaluate(x_train, y_train)\n",
    "testing_score = cnn_model_trial2.evaluate(x_test, y_test)\n",
    "\n",
    "print(f'\\nTrial 2')\n",
    "print(f'Training Accuaracy (Trial 2): {round(training_score[1]*100,1)}%')\n",
    "print(f'Testing Accuaracy (Trial 2): {round(testing_score[1]*100,1)}%')\n",
    "\n",
    "'''   Save the data of trial 2 in cnn model trials dictionary   '''\n",
    "cnn_model_trials_dict['Training Accuaracy'][1]=round(training_score[1]*100,1)\n",
    "cnn_model_trials_dict['Testing Accuaracy'][1]=round(testing_score[1]*100,1)\n",
    "cnn_model_trials_dict['Loss'][1] = round(testing_score[0], 2)"
   ]
  },
  {
   "cell_type": "code",
   "execution_count": 31,
   "metadata": {
    "id": "Gh6ZlP4Fw6x_"
   },
   "outputs": [
    {
     "name": "stdout",
     "output_type": "stream",
     "text": [
      "\u001b[1m3000/3000\u001b[0m \u001b[32m━━━━━━━━━━━━━━━━━━━━\u001b[0m\u001b[37m\u001b[0m \u001b[1m68s\u001b[0m 23ms/step - accuracy: 0.9857 - f1_m: 0.9858 - loss: 0.0833 - precision_m: 0.9875 - recall_m: 0.9841\n",
      "\u001b[1m750/750\u001b[0m \u001b[32m━━━━━━━━━━━━━━━━━━━━\u001b[0m\u001b[37m\u001b[0m \u001b[1m17s\u001b[0m 23ms/step - accuracy: 0.8151 - f1_m: 0.8151 - loss: 0.8836 - precision_m: 0.8211 - recall_m: 0.8095\n",
      "\n",
      "Trial 3\n",
      "Training Accuaracy (Trial 3): 95.5%\n",
      "Testing Accuaracy (Trial 3): 81.7%\n"
     ]
    }
   ],
   "source": [
    "# Trial-3\n",
    "training_score = cnn_model_trial3.evaluate(x_train, y_train)\n",
    "testing_score = cnn_model_trial3.evaluate(x_test, y_test)\n",
    "\n",
    "print(f'\\nTrial 3')\n",
    "print(f'Training Accuaracy (Trial 3): {round(training_score[1]*100,1)}%')\n",
    "print(f'Testing Accuaracy (Trial 3): {round(testing_score[1]*100,1)}%')\n",
    "\n",
    "'''   Save the data of trial 3 in cnn model trials dictionary   '''\n",
    "cnn_model_trials_dict['Training Accuaracy'][2]=round(training_score[1]*100,1)\n",
    "cnn_model_trials_dict['Testing Accuaracy'][2]=round(testing_score[1]*100,1)\n",
    "cnn_model_trials_dict['Loss'][2] = round(testing_score[0], 2)"
   ]
  },
  {
   "cell_type": "code",
   "execution_count": 32,
   "metadata": {
    "id": "1ZDilORqw-lZ"
   },
   "outputs": [
    {
     "name": "stdout",
     "output_type": "stream",
     "text": [
      "\u001b[1m3000/3000\u001b[0m \u001b[32m━━━━━━━━━━━━━━━━━━━━\u001b[0m\u001b[37m\u001b[0m \u001b[1m60s\u001b[0m 20ms/step - accuracy: 0.9759 - f1_m: 0.9768 - loss: 0.1982 - precision_m: 0.9803 - recall_m: 0.9735\n",
      "\u001b[1m750/750\u001b[0m \u001b[32m━━━━━━━━━━━━━━━━━━━━\u001b[0m\u001b[37m\u001b[0m \u001b[1m16s\u001b[0m 21ms/step - accuracy: 0.9141 - f1_m: 0.9130 - loss: 0.4232 - precision_m: 0.9200 - recall_m: 0.9064\n",
      "\n",
      "Trial 4\n",
      "Training Accuaracy (Trial 4): 96.4%\n",
      "Testing Accuaracy (Trial 4): 91.4%\n"
     ]
    }
   ],
   "source": [
    "# Trial-4\n",
    "training_score = cnn_model_trial4.evaluate(x_train, y_train)\n",
    "testing_score = cnn_model_trial4.evaluate(x_test, y_test)\n",
    "\n",
    "print(f'\\nTrial 4')\n",
    "print(f'Training Accuaracy (Trial 4): {round(training_score[1]*100,1)}%')\n",
    "print(f'Testing Accuaracy (Trial 4): {round(testing_score[1]*100,1)}%')\n",
    "\n",
    "'''   Save the data of trial 4 in cnn model trials dictionary   '''\n",
    "cnn_model_trials_dict['Training Accuaracy'][3]=round(training_score[1]*100,1)\n",
    "cnn_model_trials_dict['Testing Accuaracy'][3]=round(testing_score[1]*100,1)\n",
    "cnn_model_trials_dict['Loss'][3] = round(testing_score[0], 2)"
   ]
  },
  {
   "cell_type": "code",
   "execution_count": 33,
   "metadata": {
    "id": "PfwgkWBFxEIf"
   },
   "outputs": [
    {
     "name": "stdout",
     "output_type": "stream",
     "text": [
      "\u001b[1m3000/3000\u001b[0m \u001b[32m━━━━━━━━━━━━━━━━━━━━\u001b[0m\u001b[37m\u001b[0m \u001b[1m69s\u001b[0m 23ms/step - accuracy: 0.9739 - f1_m: 0.9738 - loss: 0.2489 - precision_m: 0.9764 - recall_m: 0.9713\n",
      "\u001b[1m750/750\u001b[0m \u001b[32m━━━━━━━━━━━━━━━━━━━━\u001b[0m\u001b[37m\u001b[0m \u001b[1m17s\u001b[0m 23ms/step - accuracy: 0.7900 - f1_m: 0.7904 - loss: 0.8224 - precision_m: 0.8000 - recall_m: 0.7814\n",
      "\n",
      "Trial 5\n",
      "Training Accuaracy (Trial 5): 94.2%\n",
      "Testing Accuaracy (Trial 5): 79.5%\n",
      "\n",
      "\n"
     ]
    }
   ],
   "source": [
    "# Trial-5\n",
    "training_score = cnn_model_trial5.evaluate(x_train, y_train)\n",
    "testing_score = cnn_model_trial5.evaluate(x_test, y_test)\n",
    "\n",
    "print(f'\\nTrial 5')\n",
    "print(f'Training Accuaracy (Trial 5): {round(training_score[1]*100,1)}%')\n",
    "print(f'Testing Accuaracy (Trial 5): {round(testing_score[1]*100,1)}%\\n\\n')\n",
    "\n",
    "'''   Save the data of trial 5 in cnn model trials dictionary   '''\n",
    "cnn_model_trials_dict['Training Accuaracy'][4]=round(training_score[1]*100,1)\n",
    "cnn_model_trials_dict['Testing Accuaracy'][4]=round(testing_score[1]*100,1)\n",
    "cnn_model_trials_dict['Loss'][4] = round(testing_score[0], 2)"
   ]
  },
  {
   "cell_type": "code",
   "execution_count": 34,
   "metadata": {},
   "outputs": [
    {
     "name": "stdout",
     "output_type": "stream",
     "text": [
      "  Measurement  Training Accuaracy  Testing Accuaracy  Loss  \\\n",
      "0     Trial-1                91.5               87.4  0.00   \n",
      "1     Trial-2                80.3               78.0  0.97   \n",
      "2     Trial-3                95.5               81.7  0.88   \n",
      "3     Trial-4                96.4               91.4  0.42   \n",
      "4     Trial-5                94.2               79.5  0.80   \n",
      "\n",
      "  Embedding layer Trainable  \n",
      "0                       Yes  \n",
      "1                        No  \n",
      "2                        No  \n",
      "3                       Yes  \n",
      "4                        No  \n"
     ]
    }
   ],
   "source": [
    "# Membuat DataFrame hasil evaluasi\n",
    "cnn_model_trials_df = pd.DataFrame(cnn_model_trials_dict)\n",
    "\n",
    "# Tampilkan DataFrame\n",
    "print(cnn_model_trials_df)"
   ]
  },
  {
   "cell_type": "code",
   "execution_count": null,
   "metadata": {
    "id": "IGtHFVf_xrmz"
   },
   "outputs": [],
   "source": [
    "#cnn_model_trial1.export('CG/CNN_model_trial1')\n",
    "#cnn_model_trial2.save('CNN_model_trial2.h5')\n",
    "#cnn_model_trial3.save('CNN_model_trial3.h5')\n",
    "cnn_model_trial4.save('CNN_model_trial4.h5')\n",
    "#cnn_model_trial5.save('CNN_model_trial5.h5')"
   ]
  },
  {
   "cell_type": "code",
   "execution_count": null,
   "metadata": {},
   "outputs": [
    {
     "name": "stderr",
     "output_type": "stream",
     "text": [
      "WARNING:absl:You are saving your model as an HDF5 file via `model.save()` or `keras.saving.save_model(model)`. This file format is considered legacy. We recommend using instead the native Keras format, e.g. `model.save('my_model.keras')` or `keras.saving.save_model(model, 'my_model.keras')`. \n"
     ]
    }
   ],
   "source": [
    "#cnn_model_trial4.save('CNN_model_trial4.h5')"
   ]
  },
  {
   "cell_type": "markdown",
   "metadata": {
    "id": "MkfCZUGs1N8t"
   },
   "source": [
    "#**Prediksi**"
   ]
  },
  {
   "cell_type": "code",
   "execution_count": 50,
   "metadata": {},
   "outputs": [
    {
     "name": "stdout",
     "output_type": "stream",
     "text": [
      "\u001b[1m1/1\u001b[0m \u001b[32m━━━━━━━━━━━━━━━━━━━━\u001b[0m\u001b[37m\u001b[0m \u001b[1m0s\u001b[0m 118ms/step\n",
      "Input: why do more than half of the chatgpt is going to change your industry and youll be unemployed forever if you arent prepared tweets seem celebratory and gleeful\n",
      "Predicted Sentiment: bad\n",
      "Confidence: 72.63 %\n"
     ]
    }
   ],
   "source": [
    "# Fungsi untuk memproses teks input\n",
    "def preprocess_input_text(text):\n",
    "    sequence = tokenizer.texts_to_sequences([text])\n",
    "    padded_sequence = pad_sequences(sequence, maxlen=max_num_of_words)\n",
    "    return padded_sequence\n",
    "\n",
    "# Fungsi prediksi sentimen\n",
    "def predict_sentiment(input_text):\n",
    "    processed_input = preprocess_input_text(input_text)\n",
    "    prediction = cnn_model_trial2.predict(processed_input)\n",
    "    sentiment = np.argmax(prediction, axis=1)[0]  # Mendapatkan kelas prediksi (0, 1, atau 2)\n",
    "    confidence = prediction[0][sentiment]  # Probabilitas kelas tertinggi\n",
    "    if sentiment == 0:\n",
    "        return \"bad\", confidence\n",
    "    elif sentiment == 1:\n",
    "        return \"good\", confidence\n",
    "    else:\n",
    "        return \"neutral\", confidence\n",
    "\n",
    "# Contoh input\n",
    "data_input = \"why do more than half of the chatgpt is going to change your industry and youll be unemployed forever if you arent prepared tweets seem celebratory and gleeful\"\n",
    "predicted_sentiment, confidence = predict_sentiment(data_input)\n",
    "\n",
    "print(\"Input:\", data_input)\n",
    "print(\"Predicted Sentiment:\", predicted_sentiment)\n",
    "print(\"Confidence:\", round(confidence * 100, 2), \"%\")\n"
   ]
  },
  {
   "cell_type": "code",
   "execution_count": 60,
   "metadata": {},
   "outputs": [
    {
     "name": "stdout",
     "output_type": "stream",
     "text": [
      "\u001b[1m1/1\u001b[0m \u001b[32m━━━━━━━━━━━━━━━━━━━━\u001b[0m\u001b[37m\u001b[0m \u001b[1m0s\u001b[0m 66ms/step\n",
      "Input: why do more than half of the chatgpt is going to change your industry and youll be unemployed forever if you arent prepared tweets seem celebratory and gleeful\n",
      "Predicted Sentiment: neutral\n",
      "Confidence: 87.57 %\n"
     ]
    }
   ],
   "source": [
    "# Fungsi untuk memproses teks input\n",
    "def preprocess_input_text(text):\n",
    "    sequence = tokenizer.texts_to_sequences([text])\n",
    "    padded_sequence = pad_sequences(sequence, maxlen=max_num_of_words)\n",
    "    return padded_sequence\n",
    "\n",
    "# Fungsi prediksi sentimen\n",
    "def predict_sentiment(input_text):\n",
    "    processed_input = preprocess_input_text(input_text)\n",
    "    prediction = cnn_model_trial3.predict(processed_input)\n",
    "    sentiment = np.argmax(prediction, axis=1)[0]  # Mendapatkan kelas prediksi (0, 1, atau 2)\n",
    "    confidence = prediction[0][sentiment]  # Probabilitas kelas tertinggi\n",
    "    if sentiment == 0:\n",
    "        return \"bad\", confidence\n",
    "    elif sentiment == 1:\n",
    "        return \"good\", confidence\n",
    "    else:\n",
    "        return \"neutral\", confidence\n",
    "\n",
    "# Contoh input\n",
    "data_input = \"why do more than half of the chatgpt is going to change your industry and youll be unemployed forever if you arent prepared tweets seem celebratory and gleeful\"\n",
    "predicted_sentiment, confidence = predict_sentiment(data_input)\n",
    "\n",
    "print(\"Input:\", data_input)\n",
    "print(\"Predicted Sentiment:\", predicted_sentiment)\n",
    "print(\"Confidence:\", round(confidence * 100, 2), \"%\")\n"
   ]
  },
  {
   "cell_type": "code",
   "execution_count": 67,
   "metadata": {},
   "outputs": [
    {
     "name": "stdout",
     "output_type": "stream",
     "text": [
      "\u001b[1m1/1\u001b[0m \u001b[32m━━━━━━━━━━━━━━━━━━━━\u001b[0m\u001b[37m\u001b[0m \u001b[1m0s\u001b[0m 75ms/step\n",
      "Input: really hate chatgpt\n",
      "Predicted Sentiment: bad\n",
      "Confidence: 99.3 %\n"
     ]
    }
   ],
   "source": [
    "# Fungsi untuk memproses teks input\n",
    "def preprocess_input_text(text):\n",
    "    sequence = tokenizer.texts_to_sequences([text])\n",
    "    padded_sequence = pad_sequences(sequence, maxlen=max_num_of_words)\n",
    "    return padded_sequence\n",
    "\n",
    "# Fungsi prediksi sentimen\n",
    "def predict_sentiment(input_text):\n",
    "    processed_input = preprocess_input_text(input_text)\n",
    "    prediction = cnn_model_trial4.predict(processed_input)\n",
    "    sentiment = np.argmax(prediction, axis=1)[0]  # Mendapatkan kelas prediksi (0, 1, atau 2)\n",
    "    confidence = prediction[0][sentiment]  # Probabilitas kelas tertinggi\n",
    "    if sentiment == 0:\n",
    "        return \"bad\", confidence\n",
    "    elif sentiment == 1:\n",
    "        return \"good\", confidence\n",
    "    else:\n",
    "        return \"neutral\", confidence\n",
    "\n",
    "# Contoh input\n",
    "data_input = \"really hate chatgpt\"\n",
    "predicted_sentiment, confidence = predict_sentiment(data_input)\n",
    "\n",
    "print(\"Input:\", data_input)\n",
    "print(\"Predicted Sentiment:\", predicted_sentiment)\n",
    "print(\"Confidence:\", round(confidence * 100, 2), \"%\")\n"
   ]
  },
  {
   "cell_type": "code",
   "execution_count": 69,
   "metadata": {},
   "outputs": [
    {
     "name": "stdout",
     "output_type": "stream",
     "text": [
      "\u001b[1m1/1\u001b[0m \u001b[32m━━━━━━━━━━━━━━━━━━━━\u001b[0m\u001b[37m\u001b[0m \u001b[1m1s\u001b[0m 579ms/step\n",
      "Input: fuck\n",
      "Predicted Sentiment: bad\n",
      "Confidence: 99.05 %\n"
     ]
    }
   ],
   "source": [
    "# Fungsi untuk memproses teks input\n",
    "def preprocess_input_text(text):\n",
    "    sequence = tokenizer.texts_to_sequences([text])\n",
    "    padded_sequence = pad_sequences(sequence, maxlen=max_num_of_words)\n",
    "    return padded_sequence\n",
    "\n",
    "# Fungsi prediksi sentimen\n",
    "def predict_sentiment(input_text):\n",
    "    processed_input = preprocess_input_text(input_text)\n",
    "    prediction = cnn_model_trial5.predict(processed_input)\n",
    "    sentiment = np.argmax(prediction, axis=1)[0]  # Mendapatkan kelas prediksi (0, 1, atau 2)\n",
    "    confidence = prediction[0][sentiment]  # Probabilitas kelas tertinggi\n",
    "    if sentiment == 0:\n",
    "        return \"bad\", confidence\n",
    "    elif sentiment == 1:\n",
    "        return \"good\", confidence\n",
    "    else:\n",
    "        return \"neutral\", confidence\n",
    "\n",
    "# Contoh input\n",
    "data_input = \"fuck\"\n",
    "predicted_sentiment, confidence = predict_sentiment(data_input)\n",
    "\n",
    "print(\"Input:\", data_input)\n",
    "print(\"Predicted Sentiment:\", predicted_sentiment)\n",
    "print(\"Confidence:\", round(confidence * 100, 2), \"%\")\n"
   ]
  }
 ],
 "metadata": {
  "colab": {
   "provenance": []
  },
  "kernelspec": {
   "display_name": "base",
   "language": "python",
   "name": "python3"
  },
  "language_info": {
   "codemirror_mode": {
    "name": "ipython",
    "version": 3
   },
   "file_extension": ".py",
   "mimetype": "text/x-python",
   "name": "python",
   "nbconvert_exporter": "python",
   "pygments_lexer": "ipython3",
   "version": "3.12.7"
  }
 },
 "nbformat": 4,
 "nbformat_minor": 0
}
